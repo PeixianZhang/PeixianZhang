{
  "cells": [
    {
      "cell_type": "markdown",
      "metadata": {
        "id": "view-in-github",
        "colab_type": "text"
      },
      "source": [
        "<a href=\"https://colab.research.google.com/github/PeixianZhang/PeixianZhang/blob/main/Data_checek.ipynb\" target=\"_parent\"><img src=\"https://colab.research.google.com/assets/colab-badge.svg\" alt=\"Open In Colab\"/></a>"
      ]
    },
    {
      "cell_type": "code",
      "execution_count": 1,
      "metadata": {
        "id": "9696deda"
      },
      "outputs": [],
      "source": [
        "import pandas as pd\n",
        "import matplotlib.pyplot as plt"
      ],
      "id": "9696deda"
    },
    {
      "cell_type": "code",
      "execution_count": 2,
      "metadata": {
        "id": "MSadKez5MYcQ"
      },
      "outputs": [],
      "source": [
        "from google.colab import drive\n"
      ],
      "id": "MSadKez5MYcQ"
    },
    {
      "cell_type": "code",
      "execution_count": 3,
      "metadata": {
        "colab": {
          "base_uri": "https://localhost:8080/"
        },
        "id": "rtHChonwe0jB",
        "outputId": "36d6b3f8-51b5-47b3-b418-8828bcb0c1fc"
      },
      "outputs": [
        {
          "output_type": "stream",
          "name": "stdout",
          "text": [
            "Mounted at /U-Rwar\n"
          ]
        }
      ],
      "source": [
        "drive.mount('/U-Rwar',force_remount=True)"
      ],
      "id": "rtHChonwe0jB"
    },
    {
      "cell_type": "code",
      "execution_count": 4,
      "metadata": {
        "colab": {
          "base_uri": "https://localhost:8080/"
        },
        "id": "061d17e8",
        "outputId": "be2e787b-0f5c-489f-c362-450836fb8d03"
      },
      "outputs": [
        {
          "output_type": "execute_result",
          "data": {
            "text/plain": [
              "(508668, 15)"
            ]
          },
          "metadata": {},
          "execution_count": 4
        }
      ],
      "source": [
        "input_dataset=pd.read_csv(\"/U-Rwar/MyDrive/U-Rwar/0.csv\")\n",
        "input_dataset.shape"
      ],
      "id": "061d17e8"
    },
    {
      "cell_type": "code",
      "execution_count": 5,
      "metadata": {
        "colab": {
          "base_uri": "https://localhost:8080/"
        },
        "id": "_GzWomcOM8P4",
        "outputId": "b79274dc-a11c-414a-9dc6-c1528cda2e56"
      },
      "outputs": [
        {
          "output_type": "stream",
          "name": "stdout",
          "text": [
            "Looking in indexes: https://pypi.org/simple, https://us-python.pkg.dev/colab-wheels/public/simple/\n",
            "Collecting country_converter\n",
            "  Downloading country_converter-0.8.0.tar.gz (53 kB)\n",
            "\u001b[2K     \u001b[90m━━━━━━━━━━━━━━━━━━━━━━━━━━━━━━━━━━━━━━━━\u001b[0m \u001b[32m53.5/53.5 KB\u001b[0m \u001b[31m3.7 MB/s\u001b[0m eta \u001b[36m0:00:00\u001b[0m\n",
            "\u001b[?25h  Preparing metadata (setup.py) ... \u001b[?25l\u001b[?25hdone\n",
            "Requirement already satisfied: pandas>=1.0 in /usr/local/lib/python3.8/dist-packages (from country_converter) (1.3.5)\n",
            "Requirement already satisfied: pytz>=2017.3 in /usr/local/lib/python3.8/dist-packages (from pandas>=1.0->country_converter) (2022.7.1)\n",
            "Requirement already satisfied: python-dateutil>=2.7.3 in /usr/local/lib/python3.8/dist-packages (from pandas>=1.0->country_converter) (2.8.2)\n",
            "Requirement already satisfied: numpy>=1.17.3 in /usr/local/lib/python3.8/dist-packages (from pandas>=1.0->country_converter) (1.21.6)\n",
            "Requirement already satisfied: six>=1.5 in /usr/local/lib/python3.8/dist-packages (from python-dateutil>=2.7.3->pandas>=1.0->country_converter) (1.15.0)\n",
            "Building wheels for collected packages: country_converter\n",
            "  Building wheel for country_converter (setup.py) ... \u001b[?25l\u001b[?25hdone\n",
            "  Created wheel for country_converter: filename=country_converter-0.8.0-py3-none-any.whl size=55657 sha256=e7f83b409876050577fd8ac723edc0822d2fac98cc70d926be684ca62f9eb01d\n",
            "  Stored in directory: /root/.cache/pip/wheels/c2/5a/f6/7187fa51e18f2ed105833a7f5c44a2475ace0c96e19118e608\n",
            "Successfully built country_converter\n",
            "Installing collected packages: country_converter\n",
            "Successfully installed country_converter-0.8.0\n"
          ]
        }
      ],
      "source": [
        "! pip install country_converter --upgrade"
      ],
      "id": "_GzWomcOM8P4"
    },
    {
      "cell_type": "code",
      "execution_count": 6,
      "metadata": {
        "colab": {
          "base_uri": "https://localhost:8080/"
        },
        "id": "DxT4TZsGM2S6",
        "outputId": "f7373858-cc1a-42b5-a551-06b5009ff327"
      },
      "outputs": [
        {
          "output_type": "stream",
          "name": "stderr",
          "text": [
            "WARNING:country_converter.country_converter:Oxford not found in regex\n"
          ]
        },
        {
          "output_type": "stream",
          "name": "stdout",
          "text": [
            "['Tanzania', 'Germany', 'Cabo Verde', 'Tunisia', 'Myanmar', 'Congo Republic', 'Iran', 'South Korea', 'North Korea', 'not found']\n"
          ]
        }
      ],
      "source": [
        "import country_converter as coco\n",
        "some_names = ['United Rep. of Tanzania', 'DE', 'Cape Verde', '788', 'Burma', 'COG',\n",
        "              'Iran (Islamic Republic of)', 'Korea, Republic of',\n",
        "              \"Dem. People's Rep. of Korea\", \"Oxford\"]\n",
        "standard_names = coco.convert(names=some_names, to='name_short')\n",
        "print(standard_names)"
      ],
      "id": "DxT4TZsGM2S6"
    },
    {
      "cell_type": "code",
      "execution_count": 7,
      "metadata": {
        "colab": {
          "base_uri": "https://localhost:8080/"
        },
        "id": "943b5d76",
        "outputId": "25379192-4936-4ac1-d195-c369433b72ce"
      },
      "outputs": [
        {
          "output_type": "execute_result",
          "data": {
            "text/plain": [
              "en     426147\n",
              "es      35304\n",
              "pt      14278\n",
              "tr       5598\n",
              "it       5420\n",
              "de       4334\n",
              "in       3414\n",
              "pl       2682\n",
              "und      2274\n",
              "fr       2111\n",
              "th       1109\n",
              "ja        656\n",
              "hi        631\n",
              "nl        555\n",
              "ca        548\n",
              "ro        498\n",
              "cs        467\n",
              "sv        455\n",
              "tl        423\n",
              "fi        356\n",
              "et        261\n",
              "da        221\n",
              "zh        168\n",
              "ru        149\n",
              "ht        103\n",
              "sl        100\n",
              "no         81\n",
              "uk         51\n",
              "ko         33\n",
              "cy         33\n",
              "el         26\n",
              "lt         17\n",
              "mr         17\n",
              "vi         16\n",
              "ar         15\n",
              "gu         14\n",
              "ne         11\n",
              "ur         10\n",
              "bn         10\n",
              "ta          8\n",
              "fa          8\n",
              "hu          8\n",
              "lv          8\n",
              "kn          7\n",
              "sr          6\n",
              "te          6\n",
              "eu          4\n",
              "pa          3\n",
              "iw          3\n",
              "ml          3\n",
              "is          3\n",
              "Name: lang, dtype: int64"
            ]
          },
          "metadata": {},
          "execution_count": 7
        }
      ],
      "source": [
        "input_dataset[\"lang\"].value_counts()"
      ],
      "id": "943b5d76"
    },
    {
      "cell_type": "code",
      "execution_count": 8,
      "metadata": {
        "colab": {
          "base_uri": "https://localhost:8080/"
        },
        "id": "f8bd8a38",
        "outputId": "78467bf9-1477-4176-f5c3-4909664de095"
      },
      "outputs": [
        {
          "output_type": "execute_result",
          "data": {
            "text/plain": [
              "51"
            ]
          },
          "metadata": {},
          "execution_count": 8
        }
      ],
      "source": [
        "len(input_dataset[\"lang\"].value_counts())"
      ],
      "id": "f8bd8a38"
    },
    {
      "cell_type": "code",
      "execution_count": 9,
      "metadata": {
        "id": "4ff9fbbb"
      },
      "outputs": [],
      "source": [
        "# only use the tweet in English\n",
        "input_dataset=input_dataset.loc[input_dataset['lang']==\"en\"]"
      ],
      "id": "4ff9fbbb"
    },
    {
      "cell_type": "code",
      "execution_count": 10,
      "metadata": {
        "colab": {
          "base_uri": "https://localhost:8080/"
        },
        "id": "f6292579",
        "outputId": "8421f4a5-dd72-438d-80d1-8c89b739d534"
      },
      "outputs": [
        {
          "output_type": "execute_result",
          "data": {
            "text/plain": [
              "(426147, 15)"
            ]
          },
          "metadata": {},
          "execution_count": 10
        }
      ],
      "source": [
        "input_dataset.shape"
      ],
      "id": "f6292579"
    },
    {
      "cell_type": "code",
      "execution_count": 11,
      "metadata": {
        "colab": {
          "base_uri": "https://localhost:8080/",
          "height": 1000
        },
        "id": "2f3acd13",
        "outputId": "484110c7-3717-42b0-9b70-12e3d720d033"
      },
      "outputs": [
        {
          "output_type": "execute_result",
          "data": {
            "text/plain": [
              "        Unnamed: 0                                             author  \\\n",
              "1                1  {'public_metrics': {'followers_count': 1511, '...   \n",
              "2                2  {'public_metrics': {'followers_count': 240, 'f...   \n",
              "3                3  {'public_metrics': {'followers_count': 25, 'fo...   \n",
              "7                7  {'public_metrics': {'followers_count': 49, 'fo...   \n",
              "9                9  {'public_metrics': {'followers_count': 472, 'f...   \n",
              "...            ...                                                ...   \n",
              "508654      508654  {'username': 'Anton373910032', 'protected': Fa...   \n",
              "508655      508655  {'username': 'luhu99623450', 'protected': Fals...   \n",
              "508656      508656  {'username': 'tonyserrata', 'location': 'NY', ...   \n",
              "508657      508657  {'username': 'WanderNWoodsman', 'location': 'c...   \n",
              "508665      508665  {'pinned_tweet_id': '592177387279765504', 'loc...   \n",
              "\n",
              "                  author_id                   id  \\\n",
              "1                  56485997  1499246944983650304   \n",
              "2        711768332622544896  1499246944828465152   \n",
              "3       1460175455877615616  1499246944677335040   \n",
              "7       1420083604751888384  1499246943809249280   \n",
              "9        783443322454933504  1499246943620505600   \n",
              "...                     ...                  ...   \n",
              "508654  1478669705984425984  1496997841457524736   \n",
              "508655  1243278850366169088  1496997841448759296   \n",
              "508656             15525413  1496997841411010560   \n",
              "508657            745591220  1496997841407180800   \n",
              "508665            192923366  1496997841264582656   \n",
              "\n",
              "                                                     text  \\\n",
              "1       RT @ngumenyuk: Billboards all around Kyiv: “Ru...   \n",
              "2       RT @business: Russia’s business giants have sp...   \n",
              "3       RT @SPACEdotcom: Russia refuses to launch UK's...   \n",
              "7       RT @NinaByzantina: \"Long live the eternal frie...   \n",
              "9       RT @jljacobson: @djrothkopf It's \"part of an e...   \n",
              "...                                                   ...   \n",
              "508654  RT @Doc4Dead: Won’t the Philippine president s...   \n",
              "508655  RT @RabidLlamas: GOP Candidate respects Putin’...   \n",
              "508656  @burgessct @OlgaNYC1211 @ZelenskyyUa I hope Mr...   \n",
              "508657  Russia Used Beatings and Tricks to Forcibly Se...   \n",
              "508665  RT @WetwareDulachan: @_Trashmouse_ @ELINTNews ...   \n",
              "\n",
              "                                                 ref_text  tweet_type  \\\n",
              "1       billboards all around kyiv: “russian soldier, ...   retweeted   \n",
              "2       russia’s business giants have spent millions o...   retweeted   \n",
              "3       russia refuses to launch uk's oneweb satellite...   retweeted   \n",
              "7       \"long live the eternal friendship of the russi...   retweeted   \n",
              "9        it's \"part of an extended, global effort by r...   retweeted   \n",
              "...                                                   ...         ...   \n",
              "508654  won’t the philippine president speak to the pe...   retweeted   \n",
              "508655  gop candidate respects putin’s “christian valu...   retweeted   \n",
              "508656   repeats itself.   this is the playbook used i...  replied_to   \n",
              "508657  russia used beatings and tricks to forcibly se...    original   \n",
              "508665    and bearing in mind just how much of russia'...   retweeted   \n",
              "\n",
              "       withheld                 created_at lang  toxicity_score  threat_score  \\\n",
              "1           NaN  2022-03-03 04:55:01+00:00   en        0.392301      0.719606   \n",
              "2           NaN  2022-03-03 04:55:00+00:00   en        0.117941      0.061061   \n",
              "3           NaN  2022-03-03 04:55:00+00:00   en        0.051338      0.234864   \n",
              "7           NaN  2022-03-03 04:55:00+00:00   en        0.017146      0.068649   \n",
              "9           NaN  2022-03-03 04:55:00+00:00   en        0.093874      0.339963   \n",
              "...         ...                        ...  ...             ...           ...   \n",
              "508654      NaN  2022-02-24 23:57:52+00:00   en       -1.000000     -1.000000   \n",
              "508655      NaN  2022-02-24 23:57:52+00:00   en        0.780182      0.315436   \n",
              "508656      NaN  2022-02-24 23:57:52+00:00   en        0.173112      0.316594   \n",
              "508657      NaN  2022-02-24 23:57:52+00:00   en        0.271282      0.789690   \n",
              "508665      NaN  2022-02-24 23:57:52+00:00   en        0.501281      0.761726   \n",
              "\n",
              "        id_attack_score  profanity_score  insult_score  \n",
              "1              0.353983         0.134094      0.452818  \n",
              "2              0.202112         0.080699      0.226175  \n",
              "3              0.281502         0.129116      0.124479  \n",
              "7              0.221368         0.051488      0.090847  \n",
              "9              0.240000         0.052576      0.098056  \n",
              "...                 ...              ...           ...  \n",
              "508654        -1.000000        -1.000000     -1.000000  \n",
              "508655         0.842269         0.976345      0.893682  \n",
              "508656         0.209341         0.065956      0.113998  \n",
              "508657         0.684238         0.357869      0.343968  \n",
              "508665         0.425781         0.715945      0.576706  \n",
              "\n",
              "[246175 rows x 15 columns]"
            ],
            "text/html": [
              "\n",
              "  <div id=\"df-f5962604-8dce-4a76-9d8e-a2be3f05ddba\">\n",
              "    <div class=\"colab-df-container\">\n",
              "      <div>\n",
              "<style scoped>\n",
              "    .dataframe tbody tr th:only-of-type {\n",
              "        vertical-align: middle;\n",
              "    }\n",
              "\n",
              "    .dataframe tbody tr th {\n",
              "        vertical-align: top;\n",
              "    }\n",
              "\n",
              "    .dataframe thead th {\n",
              "        text-align: right;\n",
              "    }\n",
              "</style>\n",
              "<table border=\"1\" class=\"dataframe\">\n",
              "  <thead>\n",
              "    <tr style=\"text-align: right;\">\n",
              "      <th></th>\n",
              "      <th>Unnamed: 0</th>\n",
              "      <th>author</th>\n",
              "      <th>author_id</th>\n",
              "      <th>id</th>\n",
              "      <th>text</th>\n",
              "      <th>ref_text</th>\n",
              "      <th>tweet_type</th>\n",
              "      <th>withheld</th>\n",
              "      <th>created_at</th>\n",
              "      <th>lang</th>\n",
              "      <th>toxicity_score</th>\n",
              "      <th>threat_score</th>\n",
              "      <th>id_attack_score</th>\n",
              "      <th>profanity_score</th>\n",
              "      <th>insult_score</th>\n",
              "    </tr>\n",
              "  </thead>\n",
              "  <tbody>\n",
              "    <tr>\n",
              "      <th>1</th>\n",
              "      <td>1</td>\n",
              "      <td>{'public_metrics': {'followers_count': 1511, '...</td>\n",
              "      <td>56485997</td>\n",
              "      <td>1499246944983650304</td>\n",
              "      <td>RT @ngumenyuk: Billboards all around Kyiv: “Ru...</td>\n",
              "      <td>billboards all around kyiv: “russian soldier, ...</td>\n",
              "      <td>retweeted</td>\n",
              "      <td>NaN</td>\n",
              "      <td>2022-03-03 04:55:01+00:00</td>\n",
              "      <td>en</td>\n",
              "      <td>0.392301</td>\n",
              "      <td>0.719606</td>\n",
              "      <td>0.353983</td>\n",
              "      <td>0.134094</td>\n",
              "      <td>0.452818</td>\n",
              "    </tr>\n",
              "    <tr>\n",
              "      <th>2</th>\n",
              "      <td>2</td>\n",
              "      <td>{'public_metrics': {'followers_count': 240, 'f...</td>\n",
              "      <td>711768332622544896</td>\n",
              "      <td>1499246944828465152</td>\n",
              "      <td>RT @business: Russia’s business giants have sp...</td>\n",
              "      <td>russia’s business giants have spent millions o...</td>\n",
              "      <td>retweeted</td>\n",
              "      <td>NaN</td>\n",
              "      <td>2022-03-03 04:55:00+00:00</td>\n",
              "      <td>en</td>\n",
              "      <td>0.117941</td>\n",
              "      <td>0.061061</td>\n",
              "      <td>0.202112</td>\n",
              "      <td>0.080699</td>\n",
              "      <td>0.226175</td>\n",
              "    </tr>\n",
              "    <tr>\n",
              "      <th>3</th>\n",
              "      <td>3</td>\n",
              "      <td>{'public_metrics': {'followers_count': 25, 'fo...</td>\n",
              "      <td>1460175455877615616</td>\n",
              "      <td>1499246944677335040</td>\n",
              "      <td>RT @SPACEdotcom: Russia refuses to launch UK's...</td>\n",
              "      <td>russia refuses to launch uk's oneweb satellite...</td>\n",
              "      <td>retweeted</td>\n",
              "      <td>NaN</td>\n",
              "      <td>2022-03-03 04:55:00+00:00</td>\n",
              "      <td>en</td>\n",
              "      <td>0.051338</td>\n",
              "      <td>0.234864</td>\n",
              "      <td>0.281502</td>\n",
              "      <td>0.129116</td>\n",
              "      <td>0.124479</td>\n",
              "    </tr>\n",
              "    <tr>\n",
              "      <th>7</th>\n",
              "      <td>7</td>\n",
              "      <td>{'public_metrics': {'followers_count': 49, 'fo...</td>\n",
              "      <td>1420083604751888384</td>\n",
              "      <td>1499246943809249280</td>\n",
              "      <td>RT @NinaByzantina: \"Long live the eternal frie...</td>\n",
              "      <td>\"long live the eternal friendship of the russi...</td>\n",
              "      <td>retweeted</td>\n",
              "      <td>NaN</td>\n",
              "      <td>2022-03-03 04:55:00+00:00</td>\n",
              "      <td>en</td>\n",
              "      <td>0.017146</td>\n",
              "      <td>0.068649</td>\n",
              "      <td>0.221368</td>\n",
              "      <td>0.051488</td>\n",
              "      <td>0.090847</td>\n",
              "    </tr>\n",
              "    <tr>\n",
              "      <th>9</th>\n",
              "      <td>9</td>\n",
              "      <td>{'public_metrics': {'followers_count': 472, 'f...</td>\n",
              "      <td>783443322454933504</td>\n",
              "      <td>1499246943620505600</td>\n",
              "      <td>RT @jljacobson: @djrothkopf It's \"part of an e...</td>\n",
              "      <td>it's \"part of an extended, global effort by r...</td>\n",
              "      <td>retweeted</td>\n",
              "      <td>NaN</td>\n",
              "      <td>2022-03-03 04:55:00+00:00</td>\n",
              "      <td>en</td>\n",
              "      <td>0.093874</td>\n",
              "      <td>0.339963</td>\n",
              "      <td>0.240000</td>\n",
              "      <td>0.052576</td>\n",
              "      <td>0.098056</td>\n",
              "    </tr>\n",
              "    <tr>\n",
              "      <th>...</th>\n",
              "      <td>...</td>\n",
              "      <td>...</td>\n",
              "      <td>...</td>\n",
              "      <td>...</td>\n",
              "      <td>...</td>\n",
              "      <td>...</td>\n",
              "      <td>...</td>\n",
              "      <td>...</td>\n",
              "      <td>...</td>\n",
              "      <td>...</td>\n",
              "      <td>...</td>\n",
              "      <td>...</td>\n",
              "      <td>...</td>\n",
              "      <td>...</td>\n",
              "      <td>...</td>\n",
              "    </tr>\n",
              "    <tr>\n",
              "      <th>508654</th>\n",
              "      <td>508654</td>\n",
              "      <td>{'username': 'Anton373910032', 'protected': Fa...</td>\n",
              "      <td>1478669705984425984</td>\n",
              "      <td>1496997841457524736</td>\n",
              "      <td>RT @Doc4Dead: Won’t the Philippine president s...</td>\n",
              "      <td>won’t the philippine president speak to the pe...</td>\n",
              "      <td>retweeted</td>\n",
              "      <td>NaN</td>\n",
              "      <td>2022-02-24 23:57:52+00:00</td>\n",
              "      <td>en</td>\n",
              "      <td>-1.000000</td>\n",
              "      <td>-1.000000</td>\n",
              "      <td>-1.000000</td>\n",
              "      <td>-1.000000</td>\n",
              "      <td>-1.000000</td>\n",
              "    </tr>\n",
              "    <tr>\n",
              "      <th>508655</th>\n",
              "      <td>508655</td>\n",
              "      <td>{'username': 'luhu99623450', 'protected': Fals...</td>\n",
              "      <td>1243278850366169088</td>\n",
              "      <td>1496997841448759296</td>\n",
              "      <td>RT @RabidLlamas: GOP Candidate respects Putin’...</td>\n",
              "      <td>gop candidate respects putin’s “christian valu...</td>\n",
              "      <td>retweeted</td>\n",
              "      <td>NaN</td>\n",
              "      <td>2022-02-24 23:57:52+00:00</td>\n",
              "      <td>en</td>\n",
              "      <td>0.780182</td>\n",
              "      <td>0.315436</td>\n",
              "      <td>0.842269</td>\n",
              "      <td>0.976345</td>\n",
              "      <td>0.893682</td>\n",
              "    </tr>\n",
              "    <tr>\n",
              "      <th>508656</th>\n",
              "      <td>508656</td>\n",
              "      <td>{'username': 'tonyserrata', 'location': 'NY', ...</td>\n",
              "      <td>15525413</td>\n",
              "      <td>1496997841411010560</td>\n",
              "      <td>@burgessct @OlgaNYC1211 @ZelenskyyUa I hope Mr...</td>\n",
              "      <td>repeats itself.   this is the playbook used i...</td>\n",
              "      <td>replied_to</td>\n",
              "      <td>NaN</td>\n",
              "      <td>2022-02-24 23:57:52+00:00</td>\n",
              "      <td>en</td>\n",
              "      <td>0.173112</td>\n",
              "      <td>0.316594</td>\n",
              "      <td>0.209341</td>\n",
              "      <td>0.065956</td>\n",
              "      <td>0.113998</td>\n",
              "    </tr>\n",
              "    <tr>\n",
              "      <th>508657</th>\n",
              "      <td>508657</td>\n",
              "      <td>{'username': 'WanderNWoodsman', 'location': 'c...</td>\n",
              "      <td>745591220</td>\n",
              "      <td>1496997841407180800</td>\n",
              "      <td>Russia Used Beatings and Tricks to Forcibly Se...</td>\n",
              "      <td>russia used beatings and tricks to forcibly se...</td>\n",
              "      <td>original</td>\n",
              "      <td>NaN</td>\n",
              "      <td>2022-02-24 23:57:52+00:00</td>\n",
              "      <td>en</td>\n",
              "      <td>0.271282</td>\n",
              "      <td>0.789690</td>\n",
              "      <td>0.684238</td>\n",
              "      <td>0.357869</td>\n",
              "      <td>0.343968</td>\n",
              "    </tr>\n",
              "    <tr>\n",
              "      <th>508665</th>\n",
              "      <td>508665</td>\n",
              "      <td>{'pinned_tweet_id': '592177387279765504', 'loc...</td>\n",
              "      <td>192923366</td>\n",
              "      <td>1496997841264582656</td>\n",
              "      <td>RT @WetwareDulachan: @_Trashmouse_ @ELINTNews ...</td>\n",
              "      <td>and bearing in mind just how much of russia'...</td>\n",
              "      <td>retweeted</td>\n",
              "      <td>NaN</td>\n",
              "      <td>2022-02-24 23:57:52+00:00</td>\n",
              "      <td>en</td>\n",
              "      <td>0.501281</td>\n",
              "      <td>0.761726</td>\n",
              "      <td>0.425781</td>\n",
              "      <td>0.715945</td>\n",
              "      <td>0.576706</td>\n",
              "    </tr>\n",
              "  </tbody>\n",
              "</table>\n",
              "<p>246175 rows × 15 columns</p>\n",
              "</div>\n",
              "      <button class=\"colab-df-convert\" onclick=\"convertToInteractive('df-f5962604-8dce-4a76-9d8e-a2be3f05ddba')\"\n",
              "              title=\"Convert this dataframe to an interactive table.\"\n",
              "              style=\"display:none;\">\n",
              "        \n",
              "  <svg xmlns=\"http://www.w3.org/2000/svg\" height=\"24px\"viewBox=\"0 0 24 24\"\n",
              "       width=\"24px\">\n",
              "    <path d=\"M0 0h24v24H0V0z\" fill=\"none\"/>\n",
              "    <path d=\"M18.56 5.44l.94 2.06.94-2.06 2.06-.94-2.06-.94-.94-2.06-.94 2.06-2.06.94zm-11 1L8.5 8.5l.94-2.06 2.06-.94-2.06-.94L8.5 2.5l-.94 2.06-2.06.94zm10 10l.94 2.06.94-2.06 2.06-.94-2.06-.94-.94-2.06-.94 2.06-2.06.94z\"/><path d=\"M17.41 7.96l-1.37-1.37c-.4-.4-.92-.59-1.43-.59-.52 0-1.04.2-1.43.59L10.3 9.45l-7.72 7.72c-.78.78-.78 2.05 0 2.83L4 21.41c.39.39.9.59 1.41.59.51 0 1.02-.2 1.41-.59l7.78-7.78 2.81-2.81c.8-.78.8-2.07 0-2.86zM5.41 20L4 18.59l7.72-7.72 1.47 1.35L5.41 20z\"/>\n",
              "  </svg>\n",
              "      </button>\n",
              "      \n",
              "  <style>\n",
              "    .colab-df-container {\n",
              "      display:flex;\n",
              "      flex-wrap:wrap;\n",
              "      gap: 12px;\n",
              "    }\n",
              "\n",
              "    .colab-df-convert {\n",
              "      background-color: #E8F0FE;\n",
              "      border: none;\n",
              "      border-radius: 50%;\n",
              "      cursor: pointer;\n",
              "      display: none;\n",
              "      fill: #1967D2;\n",
              "      height: 32px;\n",
              "      padding: 0 0 0 0;\n",
              "      width: 32px;\n",
              "    }\n",
              "\n",
              "    .colab-df-convert:hover {\n",
              "      background-color: #E2EBFA;\n",
              "      box-shadow: 0px 1px 2px rgba(60, 64, 67, 0.3), 0px 1px 3px 1px rgba(60, 64, 67, 0.15);\n",
              "      fill: #174EA6;\n",
              "    }\n",
              "\n",
              "    [theme=dark] .colab-df-convert {\n",
              "      background-color: #3B4455;\n",
              "      fill: #D2E3FC;\n",
              "    }\n",
              "\n",
              "    [theme=dark] .colab-df-convert:hover {\n",
              "      background-color: #434B5C;\n",
              "      box-shadow: 0px 1px 3px 1px rgba(0, 0, 0, 0.15);\n",
              "      filter: drop-shadow(0px 1px 2px rgba(0, 0, 0, 0.3));\n",
              "      fill: #FFFFFF;\n",
              "    }\n",
              "  </style>\n",
              "\n",
              "      <script>\n",
              "        const buttonEl =\n",
              "          document.querySelector('#df-f5962604-8dce-4a76-9d8e-a2be3f05ddba button.colab-df-convert');\n",
              "        buttonEl.style.display =\n",
              "          google.colab.kernel.accessAllowed ? 'block' : 'none';\n",
              "\n",
              "        async function convertToInteractive(key) {\n",
              "          const element = document.querySelector('#df-f5962604-8dce-4a76-9d8e-a2be3f05ddba');\n",
              "          const dataTable =\n",
              "            await google.colab.kernel.invokeFunction('convertToInteractive',\n",
              "                                                     [key], {});\n",
              "          if (!dataTable) return;\n",
              "\n",
              "          const docLinkHtml = 'Like what you see? Visit the ' +\n",
              "            '<a target=\"_blank\" href=https://colab.research.google.com/notebooks/data_table.ipynb>data table notebook</a>'\n",
              "            + ' to learn more about interactive tables.';\n",
              "          element.innerHTML = '';\n",
              "          dataTable['output_type'] = 'display_data';\n",
              "          await google.colab.output.renderOutput(dataTable, element);\n",
              "          const docLink = document.createElement('div');\n",
              "          docLink.innerHTML = docLinkHtml;\n",
              "          element.appendChild(docLink);\n",
              "        }\n",
              "      </script>\n",
              "    </div>\n",
              "  </div>\n",
              "  "
            ]
          },
          "metadata": {},
          "execution_count": 11
        }
      ],
      "source": [
        "author_repeated=input_dataset[input_dataset.duplicated(subset=[\"author_id\"],keep=False)]\n",
        "author_repeated"
      ],
      "id": "2f3acd13"
    },
    {
      "cell_type": "code",
      "execution_count": 12,
      "metadata": {
        "colab": {
          "base_uri": "https://localhost:8080/",
          "height": 516
        },
        "id": "7281fbf7",
        "outputId": "f398866f-5c53-4fa0-afb7-7a7a44020a76"
      },
      "outputs": [
        {
          "output_type": "execute_result",
          "data": {
            "text/plain": [
              "                     Unnamed: 0  author  id  text  ref_text  tweet_type  \\\n",
              "author_id                                                                 \n",
              "767                           5       5   5     5         5           5   \n",
              "3839                          2       2   2     2         2           2   \n",
              "5908                          2       2   2     2         2           2   \n",
              "6941                          2       2   2     2         2           2   \n",
              "12301                         3       3   3     3         3           3   \n",
              "...                         ...     ...  ..   ...       ...         ...   \n",
              "1499339533426601984           6       6   6     6         6           6   \n",
              "1499356590637469696          16      16  16    16        16          16   \n",
              "1499421867282767872           7       7   7     7         7           7   \n",
              "1499424548596367360           2       2   2     2         2           2   \n",
              "1499426765202071552          12      12  12    12        12          12   \n",
              "\n",
              "                     withheld  created_at  lang  toxicity_score  threat_score  \\\n",
              "author_id                                                                       \n",
              "767                         0           5     5               5             5   \n",
              "3839                        0           2     2               2             2   \n",
              "5908                        0           2     2               2             2   \n",
              "6941                        0           2     2               2             2   \n",
              "12301                       0           3     3               3             3   \n",
              "...                       ...         ...   ...             ...           ...   \n",
              "1499339533426601984         0           6     6               6             6   \n",
              "1499356590637469696         0          16    16              16            16   \n",
              "1499421867282767872         0           7     7               7             7   \n",
              "1499424548596367360         0           2     2               2             2   \n",
              "1499426765202071552         0          12    12              12            12   \n",
              "\n",
              "                     id_attack_score  profanity_score  insult_score  \n",
              "author_id                                                            \n",
              "767                                5                5             5  \n",
              "3839                               2                2             2  \n",
              "5908                               2                2             2  \n",
              "6941                               2                2             2  \n",
              "12301                              3                3             3  \n",
              "...                              ...              ...           ...  \n",
              "1499339533426601984                6                6             6  \n",
              "1499356590637469696               16               16            16  \n",
              "1499421867282767872                7                7             7  \n",
              "1499424548596367360                2                2             2  \n",
              "1499426765202071552               12               12            12  \n",
              "\n",
              "[68204 rows x 14 columns]"
            ],
            "text/html": [
              "\n",
              "  <div id=\"df-b0fea4e5-8744-45f5-b05f-36ddc410b92e\">\n",
              "    <div class=\"colab-df-container\">\n",
              "      <div>\n",
              "<style scoped>\n",
              "    .dataframe tbody tr th:only-of-type {\n",
              "        vertical-align: middle;\n",
              "    }\n",
              "\n",
              "    .dataframe tbody tr th {\n",
              "        vertical-align: top;\n",
              "    }\n",
              "\n",
              "    .dataframe thead th {\n",
              "        text-align: right;\n",
              "    }\n",
              "</style>\n",
              "<table border=\"1\" class=\"dataframe\">\n",
              "  <thead>\n",
              "    <tr style=\"text-align: right;\">\n",
              "      <th></th>\n",
              "      <th>Unnamed: 0</th>\n",
              "      <th>author</th>\n",
              "      <th>id</th>\n",
              "      <th>text</th>\n",
              "      <th>ref_text</th>\n",
              "      <th>tweet_type</th>\n",
              "      <th>withheld</th>\n",
              "      <th>created_at</th>\n",
              "      <th>lang</th>\n",
              "      <th>toxicity_score</th>\n",
              "      <th>threat_score</th>\n",
              "      <th>id_attack_score</th>\n",
              "      <th>profanity_score</th>\n",
              "      <th>insult_score</th>\n",
              "    </tr>\n",
              "    <tr>\n",
              "      <th>author_id</th>\n",
              "      <th></th>\n",
              "      <th></th>\n",
              "      <th></th>\n",
              "      <th></th>\n",
              "      <th></th>\n",
              "      <th></th>\n",
              "      <th></th>\n",
              "      <th></th>\n",
              "      <th></th>\n",
              "      <th></th>\n",
              "      <th></th>\n",
              "      <th></th>\n",
              "      <th></th>\n",
              "      <th></th>\n",
              "    </tr>\n",
              "  </thead>\n",
              "  <tbody>\n",
              "    <tr>\n",
              "      <th>767</th>\n",
              "      <td>5</td>\n",
              "      <td>5</td>\n",
              "      <td>5</td>\n",
              "      <td>5</td>\n",
              "      <td>5</td>\n",
              "      <td>5</td>\n",
              "      <td>0</td>\n",
              "      <td>5</td>\n",
              "      <td>5</td>\n",
              "      <td>5</td>\n",
              "      <td>5</td>\n",
              "      <td>5</td>\n",
              "      <td>5</td>\n",
              "      <td>5</td>\n",
              "    </tr>\n",
              "    <tr>\n",
              "      <th>3839</th>\n",
              "      <td>2</td>\n",
              "      <td>2</td>\n",
              "      <td>2</td>\n",
              "      <td>2</td>\n",
              "      <td>2</td>\n",
              "      <td>2</td>\n",
              "      <td>0</td>\n",
              "      <td>2</td>\n",
              "      <td>2</td>\n",
              "      <td>2</td>\n",
              "      <td>2</td>\n",
              "      <td>2</td>\n",
              "      <td>2</td>\n",
              "      <td>2</td>\n",
              "    </tr>\n",
              "    <tr>\n",
              "      <th>5908</th>\n",
              "      <td>2</td>\n",
              "      <td>2</td>\n",
              "      <td>2</td>\n",
              "      <td>2</td>\n",
              "      <td>2</td>\n",
              "      <td>2</td>\n",
              "      <td>0</td>\n",
              "      <td>2</td>\n",
              "      <td>2</td>\n",
              "      <td>2</td>\n",
              "      <td>2</td>\n",
              "      <td>2</td>\n",
              "      <td>2</td>\n",
              "      <td>2</td>\n",
              "    </tr>\n",
              "    <tr>\n",
              "      <th>6941</th>\n",
              "      <td>2</td>\n",
              "      <td>2</td>\n",
              "      <td>2</td>\n",
              "      <td>2</td>\n",
              "      <td>2</td>\n",
              "      <td>2</td>\n",
              "      <td>0</td>\n",
              "      <td>2</td>\n",
              "      <td>2</td>\n",
              "      <td>2</td>\n",
              "      <td>2</td>\n",
              "      <td>2</td>\n",
              "      <td>2</td>\n",
              "      <td>2</td>\n",
              "    </tr>\n",
              "    <tr>\n",
              "      <th>12301</th>\n",
              "      <td>3</td>\n",
              "      <td>3</td>\n",
              "      <td>3</td>\n",
              "      <td>3</td>\n",
              "      <td>3</td>\n",
              "      <td>3</td>\n",
              "      <td>0</td>\n",
              "      <td>3</td>\n",
              "      <td>3</td>\n",
              "      <td>3</td>\n",
              "      <td>3</td>\n",
              "      <td>3</td>\n",
              "      <td>3</td>\n",
              "      <td>3</td>\n",
              "    </tr>\n",
              "    <tr>\n",
              "      <th>...</th>\n",
              "      <td>...</td>\n",
              "      <td>...</td>\n",
              "      <td>...</td>\n",
              "      <td>...</td>\n",
              "      <td>...</td>\n",
              "      <td>...</td>\n",
              "      <td>...</td>\n",
              "      <td>...</td>\n",
              "      <td>...</td>\n",
              "      <td>...</td>\n",
              "      <td>...</td>\n",
              "      <td>...</td>\n",
              "      <td>...</td>\n",
              "      <td>...</td>\n",
              "    </tr>\n",
              "    <tr>\n",
              "      <th>1499339533426601984</th>\n",
              "      <td>6</td>\n",
              "      <td>6</td>\n",
              "      <td>6</td>\n",
              "      <td>6</td>\n",
              "      <td>6</td>\n",
              "      <td>6</td>\n",
              "      <td>0</td>\n",
              "      <td>6</td>\n",
              "      <td>6</td>\n",
              "      <td>6</td>\n",
              "      <td>6</td>\n",
              "      <td>6</td>\n",
              "      <td>6</td>\n",
              "      <td>6</td>\n",
              "    </tr>\n",
              "    <tr>\n",
              "      <th>1499356590637469696</th>\n",
              "      <td>16</td>\n",
              "      <td>16</td>\n",
              "      <td>16</td>\n",
              "      <td>16</td>\n",
              "      <td>16</td>\n",
              "      <td>16</td>\n",
              "      <td>0</td>\n",
              "      <td>16</td>\n",
              "      <td>16</td>\n",
              "      <td>16</td>\n",
              "      <td>16</td>\n",
              "      <td>16</td>\n",
              "      <td>16</td>\n",
              "      <td>16</td>\n",
              "    </tr>\n",
              "    <tr>\n",
              "      <th>1499421867282767872</th>\n",
              "      <td>7</td>\n",
              "      <td>7</td>\n",
              "      <td>7</td>\n",
              "      <td>7</td>\n",
              "      <td>7</td>\n",
              "      <td>7</td>\n",
              "      <td>0</td>\n",
              "      <td>7</td>\n",
              "      <td>7</td>\n",
              "      <td>7</td>\n",
              "      <td>7</td>\n",
              "      <td>7</td>\n",
              "      <td>7</td>\n",
              "      <td>7</td>\n",
              "    </tr>\n",
              "    <tr>\n",
              "      <th>1499424548596367360</th>\n",
              "      <td>2</td>\n",
              "      <td>2</td>\n",
              "      <td>2</td>\n",
              "      <td>2</td>\n",
              "      <td>2</td>\n",
              "      <td>2</td>\n",
              "      <td>0</td>\n",
              "      <td>2</td>\n",
              "      <td>2</td>\n",
              "      <td>2</td>\n",
              "      <td>2</td>\n",
              "      <td>2</td>\n",
              "      <td>2</td>\n",
              "      <td>2</td>\n",
              "    </tr>\n",
              "    <tr>\n",
              "      <th>1499426765202071552</th>\n",
              "      <td>12</td>\n",
              "      <td>12</td>\n",
              "      <td>12</td>\n",
              "      <td>12</td>\n",
              "      <td>12</td>\n",
              "      <td>12</td>\n",
              "      <td>0</td>\n",
              "      <td>12</td>\n",
              "      <td>12</td>\n",
              "      <td>12</td>\n",
              "      <td>12</td>\n",
              "      <td>12</td>\n",
              "      <td>12</td>\n",
              "      <td>12</td>\n",
              "    </tr>\n",
              "  </tbody>\n",
              "</table>\n",
              "<p>68204 rows × 14 columns</p>\n",
              "</div>\n",
              "      <button class=\"colab-df-convert\" onclick=\"convertToInteractive('df-b0fea4e5-8744-45f5-b05f-36ddc410b92e')\"\n",
              "              title=\"Convert this dataframe to an interactive table.\"\n",
              "              style=\"display:none;\">\n",
              "        \n",
              "  <svg xmlns=\"http://www.w3.org/2000/svg\" height=\"24px\"viewBox=\"0 0 24 24\"\n",
              "       width=\"24px\">\n",
              "    <path d=\"M0 0h24v24H0V0z\" fill=\"none\"/>\n",
              "    <path d=\"M18.56 5.44l.94 2.06.94-2.06 2.06-.94-2.06-.94-.94-2.06-.94 2.06-2.06.94zm-11 1L8.5 8.5l.94-2.06 2.06-.94-2.06-.94L8.5 2.5l-.94 2.06-2.06.94zm10 10l.94 2.06.94-2.06 2.06-.94-2.06-.94-.94-2.06-.94 2.06-2.06.94z\"/><path d=\"M17.41 7.96l-1.37-1.37c-.4-.4-.92-.59-1.43-.59-.52 0-1.04.2-1.43.59L10.3 9.45l-7.72 7.72c-.78.78-.78 2.05 0 2.83L4 21.41c.39.39.9.59 1.41.59.51 0 1.02-.2 1.41-.59l7.78-7.78 2.81-2.81c.8-.78.8-2.07 0-2.86zM5.41 20L4 18.59l7.72-7.72 1.47 1.35L5.41 20z\"/>\n",
              "  </svg>\n",
              "      </button>\n",
              "      \n",
              "  <style>\n",
              "    .colab-df-container {\n",
              "      display:flex;\n",
              "      flex-wrap:wrap;\n",
              "      gap: 12px;\n",
              "    }\n",
              "\n",
              "    .colab-df-convert {\n",
              "      background-color: #E8F0FE;\n",
              "      border: none;\n",
              "      border-radius: 50%;\n",
              "      cursor: pointer;\n",
              "      display: none;\n",
              "      fill: #1967D2;\n",
              "      height: 32px;\n",
              "      padding: 0 0 0 0;\n",
              "      width: 32px;\n",
              "    }\n",
              "\n",
              "    .colab-df-convert:hover {\n",
              "      background-color: #E2EBFA;\n",
              "      box-shadow: 0px 1px 2px rgba(60, 64, 67, 0.3), 0px 1px 3px 1px rgba(60, 64, 67, 0.15);\n",
              "      fill: #174EA6;\n",
              "    }\n",
              "\n",
              "    [theme=dark] .colab-df-convert {\n",
              "      background-color: #3B4455;\n",
              "      fill: #D2E3FC;\n",
              "    }\n",
              "\n",
              "    [theme=dark] .colab-df-convert:hover {\n",
              "      background-color: #434B5C;\n",
              "      box-shadow: 0px 1px 3px 1px rgba(0, 0, 0, 0.15);\n",
              "      filter: drop-shadow(0px 1px 2px rgba(0, 0, 0, 0.3));\n",
              "      fill: #FFFFFF;\n",
              "    }\n",
              "  </style>\n",
              "\n",
              "      <script>\n",
              "        const buttonEl =\n",
              "          document.querySelector('#df-b0fea4e5-8744-45f5-b05f-36ddc410b92e button.colab-df-convert');\n",
              "        buttonEl.style.display =\n",
              "          google.colab.kernel.accessAllowed ? 'block' : 'none';\n",
              "\n",
              "        async function convertToInteractive(key) {\n",
              "          const element = document.querySelector('#df-b0fea4e5-8744-45f5-b05f-36ddc410b92e');\n",
              "          const dataTable =\n",
              "            await google.colab.kernel.invokeFunction('convertToInteractive',\n",
              "                                                     [key], {});\n",
              "          if (!dataTable) return;\n",
              "\n",
              "          const docLinkHtml = 'Like what you see? Visit the ' +\n",
              "            '<a target=\"_blank\" href=https://colab.research.google.com/notebooks/data_table.ipynb>data table notebook</a>'\n",
              "            + ' to learn more about interactive tables.';\n",
              "          element.innerHTML = '';\n",
              "          dataTable['output_type'] = 'display_data';\n",
              "          await google.colab.output.renderOutput(dataTable, element);\n",
              "          const docLink = document.createElement('div');\n",
              "          docLink.innerHTML = docLinkHtml;\n",
              "          element.appendChild(docLink);\n",
              "        }\n",
              "      </script>\n",
              "    </div>\n",
              "  </div>\n",
              "  "
            ]
          },
          "metadata": {},
          "execution_count": 12
        }
      ],
      "source": [
        "author_repeated.groupby([\"author_id\"]).count()"
      ],
      "id": "7281fbf7"
    },
    {
      "cell_type": "code",
      "execution_count": 13,
      "metadata": {
        "id": "cac79a33"
      },
      "outputs": [],
      "source": [
        "#for user who are activities in the dataset#\n",
        "# the average tweets they posted\n",
        "average_tweet_by_person=author_repeated.groupby([\"author_id\"]).count()[\"id\"].mean()"
      ],
      "id": "cac79a33"
    },
    {
      "cell_type": "code",
      "execution_count": 14,
      "metadata": {
        "colab": {
          "base_uri": "https://localhost:8080/"
        },
        "id": "9d992972",
        "outputId": "d9b02680-e20f-4647-d1df-ba8631917acd"
      },
      "outputs": [
        {
          "output_type": "execute_result",
          "data": {
            "text/plain": [
              "3.6093924110022875"
            ]
          },
          "metadata": {},
          "execution_count": 14
        }
      ],
      "source": [
        "#every people post 3.6 tweets in average\n",
        "average_tweet_by_person"
      ],
      "id": "9d992972"
    },
    {
      "cell_type": "code",
      "execution_count": 15,
      "metadata": {
        "colab": {
          "base_uri": "https://localhost:8080/"
        },
        "id": "cbcf376d",
        "outputId": "43c99019-0f8f-4122-a9d5-a5ebd9f599a1"
      },
      "outputs": [
        {
          "output_type": "execute_result",
          "data": {
            "text/plain": [
              "89"
            ]
          },
          "metadata": {},
          "execution_count": 15
        }
      ],
      "source": [
        "author_repeated.groupby([\"author_id\"]).count()[\"id\"].max()\n",
        "# it may be a media account or an influencer "
      ],
      "id": "cbcf376d"
    },
    {
      "cell_type": "code",
      "execution_count": 16,
      "metadata": {
        "id": "33aa55d5"
      },
      "outputs": [],
      "source": [
        "type_dis=author_repeated[\"tweet_type\"].value_counts()"
      ],
      "id": "33aa55d5"
    },
    {
      "cell_type": "code",
      "execution_count": 17,
      "metadata": {
        "colab": {
          "base_uri": "https://localhost:8080/",
          "height": 323
        },
        "id": "a510e32d",
        "outputId": "4bd57d84-9ee7-4e47-ca30-190553f5fef5",
        "scrolled": true
      },
      "outputs": [
        {
          "output_type": "execute_result",
          "data": {
            "text/plain": [
              "<matplotlib.axes._subplots.AxesSubplot at 0x7ff33d4910d0>"
            ]
          },
          "metadata": {},
          "execution_count": 17
        },
        {
          "output_type": "display_data",
          "data": {
            "text/plain": [
              "<Figure size 432x288 with 1 Axes>"
            ],
            "image/png": "[encoded data removed]"
          },
          "metadata": {
            "needs_background": "light"
          }
        }
      ],
      "source": [
        "# for activited users\n",
        "type_dis.plot.bar()"
      ],
      "id": "a510e32d"
    },
    {
      "cell_type": "code",
      "execution_count": 18,
      "metadata": {
        "id": "f7cf353d"
      },
      "outputs": [],
      "source": [
        "author_repeated_orginal=author_repeated.loc[author_repeated[\"tweet_type\"]==\"original\"]"
      ],
      "id": "f7cf353d"
    },
    {
      "cell_type": "code",
      "execution_count": 19,
      "metadata": {
        "colab": {
          "base_uri": "https://localhost:8080/",
          "height": 1000
        },
        "id": "e7a5bbbe",
        "outputId": "08f897ad-a081-4d41-ac7e-2d5f65216fea"
      },
      "outputs": [
        {
          "output_type": "execute_result",
          "data": {
            "text/plain": [
              "        Unnamed: 0                                             author  \\\n",
              "12              12  {'public_metrics': {'followers_count': 50, 'fo...   \n",
              "28              28  {'public_metrics': {'followers_count': 1785220...   \n",
              "29              29  {'public_metrics': {'followers_count': 8325044...   \n",
              "31              31  {'public_metrics': {'followers_count': 1340250...   \n",
              "66              66  {'id': '1183264020708515840', 'name': 'newswor...   \n",
              "...            ...                                                ...   \n",
              "508258      508258  {'created_at': '2014-03-08T15:13:13.000Z', 'pr...   \n",
              "508283      508283  {'created_at': '2022-01-10T21:19:21.000Z', 'pr...   \n",
              "508372      508372  {'created_at': '2014-04-19T01:06:42.000Z', 'pi...   \n",
              "508603      508603  {'username': '1014Want', 'protected': False, '...   \n",
              "508657      508657  {'username': 'WanderNWoodsman', 'location': 'c...   \n",
              "\n",
              "                  author_id                   id  \\\n",
              "12      1482135646340796416  1499246943171657728   \n",
              "28                 91478624  1499246941812629504   \n",
              "29                 15872418  1499246941787463680   \n",
              "31                 16887175  1499246941720485888   \n",
              "66      1183264020708515840  1499246938528624640   \n",
              "...                     ...                  ...   \n",
              "508258           2378868656  1496997852991483904   \n",
              "508283  1480650450332495872  1496997852127670272   \n",
              "508372           2452161535  1496997849527201792   \n",
              "508603  1433664171296665600  1496997842900115456   \n",
              "508657            745591220  1496997841407180800   \n",
              "\n",
              "                                                     text  \\\n",
              "12      China asked Russia to delay war in Ukraine unt...   \n",
              "28      UKRAINE: President Biden: \"When history of thi...   \n",
              "29      Previous wars point to Putin's tactics in Ukra...   \n",
              "31      World united against Vladimir Putin's 'abhorre...   \n",
              "66      Refute faux information, do not ban it | Novay...   \n",
              "...                                                   ...   \n",
              "508258  Karjakin has brought chess into disrepute.  It...   \n",
              "508283  🚨 The government of #Ukraine is asking for vol...   \n",
              "508372  In a video statement, Ukrainian President Zele...   \n",
              "508603  Live updates: Russia invades Ukraine https://t...   \n",
              "508657  Russia Used Beatings and Tricks to Forcibly Se...   \n",
              "\n",
              "                                                 ref_text tweet_type withheld  \\\n",
              "12      china asked russia to delay war in ukraine unt...   original      NaN   \n",
              "28      ukraine: president biden: \"when history of thi...   original      NaN   \n",
              "29      previous wars point to putin's tactics in ukra...   original      NaN   \n",
              "31      world united against vladimir putin's 'abhorre...   original      NaN   \n",
              "66      refute faux information, do not ban it | novay...   original      NaN   \n",
              "...                                                   ...        ...      ...   \n",
              "508258  karjakin has brought chess into disrepute.  it...   original      NaN   \n",
              "508283  🚨 the government of  is asking for volunteers ...   original      NaN   \n",
              "508372  in a video statement, ukrainian president zele...   original      NaN   \n",
              "508603              live updates: russia invades ukraine    original      NaN   \n",
              "508657  russia used beatings and tricks to forcibly se...   original      NaN   \n",
              "\n",
              "                       created_at lang  toxicity_score  threat_score  \\\n",
              "12      2022-03-03 04:55:00+00:00   en        0.132070      0.386996   \n",
              "28      2022-03-03 04:55:00+00:00   en        0.110857      0.320672   \n",
              "29      2022-03-03 04:55:00+00:00   en        0.155680      0.558861   \n",
              "31      2022-03-03 04:55:00+00:00   en        0.233651      0.570390   \n",
              "66      2022-03-03 04:54:59+00:00   en        0.149567      0.274600   \n",
              "...                           ...  ...             ...           ...   \n",
              "508258  2022-02-24 23:57:55+00:00   en        0.129533      0.063571   \n",
              "508283  2022-02-24 23:57:55+00:00   en        0.023117      0.058845   \n",
              "508372  2022-02-24 23:57:54+00:00   en        0.221574      0.543276   \n",
              "508603  2022-02-24 23:57:53+00:00   en        0.167587      0.483423   \n",
              "508657  2022-02-24 23:57:52+00:00   en        0.271282      0.789690   \n",
              "\n",
              "        id_attack_score  profanity_score  insult_score  \n",
              "12             0.237755         0.101340      0.146565  \n",
              "28             0.316923         0.141085      0.244005  \n",
              "29             0.585239         0.310981      0.307151  \n",
              "31             0.585239         0.270485      0.460505  \n",
              "66             0.253623         0.304150      0.319923  \n",
              "...                 ...              ...           ...  \n",
              "508258         0.212228         0.082700      0.247054  \n",
              "508283         0.056615         0.011688      0.036263  \n",
              "508372         0.355655         0.101758      0.237586  \n",
              "508603         0.482257         0.233616      0.215689  \n",
              "508657         0.684238         0.357869      0.343968  \n",
              "\n",
              "[14369 rows x 15 columns]"
            ],
            "text/html": [
              "\n",
              "  <div id=\"df-614d834f-c0d4-454e-9b7d-594538376147\">\n",
              "    <div class=\"colab-df-container\">\n",
              "      <div>\n",
              "<style scoped>\n",
              "    .dataframe tbody tr th:only-of-type {\n",
              "        vertical-align: middle;\n",
              "    }\n",
              "\n",
              "    .dataframe tbody tr th {\n",
              "        vertical-align: top;\n",
              "    }\n",
              "\n",
              "    .dataframe thead th {\n",
              "        text-align: right;\n",
              "    }\n",
              "</style>\n",
              "<table border=\"1\" class=\"dataframe\">\n",
              "  <thead>\n",
              "    <tr style=\"text-align: right;\">\n",
              "      <th></th>\n",
              "      <th>Unnamed: 0</th>\n",
              "      <th>author</th>\n",
              "      <th>author_id</th>\n",
              "      <th>id</th>\n",
              "      <th>text</th>\n",
              "      <th>ref_text</th>\n",
              "      <th>tweet_type</th>\n",
              "      <th>withheld</th>\n",
              "      <th>created_at</th>\n",
              "      <th>lang</th>\n",
              "      <th>toxicity_score</th>\n",
              "      <th>threat_score</th>\n",
              "      <th>id_attack_score</th>\n",
              "      <th>profanity_score</th>\n",
              "      <th>insult_score</th>\n",
              "    </tr>\n",
              "  </thead>\n",
              "  <tbody>\n",
              "    <tr>\n",
              "      <th>12</th>\n",
              "      <td>12</td>\n",
              "      <td>{'public_metrics': {'followers_count': 50, 'fo...</td>\n",
              "      <td>1482135646340796416</td>\n",
              "      <td>1499246943171657728</td>\n",
              "      <td>China asked Russia to delay war in Ukraine unt...</td>\n",
              "      <td>china asked russia to delay war in ukraine unt...</td>\n",
              "      <td>original</td>\n",
              "      <td>NaN</td>\n",
              "      <td>2022-03-03 04:55:00+00:00</td>\n",
              "      <td>en</td>\n",
              "      <td>0.132070</td>\n",
              "      <td>0.386996</td>\n",
              "      <td>0.237755</td>\n",
              "      <td>0.101340</td>\n",
              "      <td>0.146565</td>\n",
              "    </tr>\n",
              "    <tr>\n",
              "      <th>28</th>\n",
              "      <td>28</td>\n",
              "      <td>{'public_metrics': {'followers_count': 1785220...</td>\n",
              "      <td>91478624</td>\n",
              "      <td>1499246941812629504</td>\n",
              "      <td>UKRAINE: President Biden: \"When history of thi...</td>\n",
              "      <td>ukraine: president biden: \"when history of thi...</td>\n",
              "      <td>original</td>\n",
              "      <td>NaN</td>\n",
              "      <td>2022-03-03 04:55:00+00:00</td>\n",
              "      <td>en</td>\n",
              "      <td>0.110857</td>\n",
              "      <td>0.320672</td>\n",
              "      <td>0.316923</td>\n",
              "      <td>0.141085</td>\n",
              "      <td>0.244005</td>\n",
              "    </tr>\n",
              "    <tr>\n",
              "      <th>29</th>\n",
              "      <td>29</td>\n",
              "      <td>{'public_metrics': {'followers_count': 8325044...</td>\n",
              "      <td>15872418</td>\n",
              "      <td>1499246941787463680</td>\n",
              "      <td>Previous wars point to Putin's tactics in Ukra...</td>\n",
              "      <td>previous wars point to putin's tactics in ukra...</td>\n",
              "      <td>original</td>\n",
              "      <td>NaN</td>\n",
              "      <td>2022-03-03 04:55:00+00:00</td>\n",
              "      <td>en</td>\n",
              "      <td>0.155680</td>\n",
              "      <td>0.558861</td>\n",
              "      <td>0.585239</td>\n",
              "      <td>0.310981</td>\n",
              "      <td>0.307151</td>\n",
              "    </tr>\n",
              "    <tr>\n",
              "      <th>31</th>\n",
              "      <td>31</td>\n",
              "      <td>{'public_metrics': {'followers_count': 1340250...</td>\n",
              "      <td>16887175</td>\n",
              "      <td>1499246941720485888</td>\n",
              "      <td>World united against Vladimir Putin's 'abhorre...</td>\n",
              "      <td>world united against vladimir putin's 'abhorre...</td>\n",
              "      <td>original</td>\n",
              "      <td>NaN</td>\n",
              "      <td>2022-03-03 04:55:00+00:00</td>\n",
              "      <td>en</td>\n",
              "      <td>0.233651</td>\n",
              "      <td>0.570390</td>\n",
              "      <td>0.585239</td>\n",
              "      <td>0.270485</td>\n",
              "      <td>0.460505</td>\n",
              "    </tr>\n",
              "    <tr>\n",
              "      <th>66</th>\n",
              "      <td>66</td>\n",
              "      <td>{'id': '1183264020708515840', 'name': 'newswor...</td>\n",
              "      <td>1183264020708515840</td>\n",
              "      <td>1499246938528624640</td>\n",
              "      <td>Refute faux information, do not ban it | Novay...</td>\n",
              "      <td>refute faux information, do not ban it | novay...</td>\n",
              "      <td>original</td>\n",
              "      <td>NaN</td>\n",
              "      <td>2022-03-03 04:54:59+00:00</td>\n",
              "      <td>en</td>\n",
              "      <td>0.149567</td>\n",
              "      <td>0.274600</td>\n",
              "      <td>0.253623</td>\n",
              "      <td>0.304150</td>\n",
              "      <td>0.319923</td>\n",
              "    </tr>\n",
              "    <tr>\n",
              "      <th>...</th>\n",
              "      <td>...</td>\n",
              "      <td>...</td>\n",
              "      <td>...</td>\n",
              "      <td>...</td>\n",
              "      <td>...</td>\n",
              "      <td>...</td>\n",
              "      <td>...</td>\n",
              "      <td>...</td>\n",
              "      <td>...</td>\n",
              "      <td>...</td>\n",
              "      <td>...</td>\n",
              "      <td>...</td>\n",
              "      <td>...</td>\n",
              "      <td>...</td>\n",
              "      <td>...</td>\n",
              "    </tr>\n",
              "    <tr>\n",
              "      <th>508258</th>\n",
              "      <td>508258</td>\n",
              "      <td>{'created_at': '2014-03-08T15:13:13.000Z', 'pr...</td>\n",
              "      <td>2378868656</td>\n",
              "      <td>1496997852991483904</td>\n",
              "      <td>Karjakin has brought chess into disrepute.  It...</td>\n",
              "      <td>karjakin has brought chess into disrepute.  it...</td>\n",
              "      <td>original</td>\n",
              "      <td>NaN</td>\n",
              "      <td>2022-02-24 23:57:55+00:00</td>\n",
              "      <td>en</td>\n",
              "      <td>0.129533</td>\n",
              "      <td>0.063571</td>\n",
              "      <td>0.212228</td>\n",
              "      <td>0.082700</td>\n",
              "      <td>0.247054</td>\n",
              "    </tr>\n",
              "    <tr>\n",
              "      <th>508283</th>\n",
              "      <td>508283</td>\n",
              "      <td>{'created_at': '2022-01-10T21:19:21.000Z', 'pr...</td>\n",
              "      <td>1480650450332495872</td>\n",
              "      <td>1496997852127670272</td>\n",
              "      <td>🚨 The government of #Ukraine is asking for vol...</td>\n",
              "      <td>🚨 the government of  is asking for volunteers ...</td>\n",
              "      <td>original</td>\n",
              "      <td>NaN</td>\n",
              "      <td>2022-02-24 23:57:55+00:00</td>\n",
              "      <td>en</td>\n",
              "      <td>0.023117</td>\n",
              "      <td>0.058845</td>\n",
              "      <td>0.056615</td>\n",
              "      <td>0.011688</td>\n",
              "      <td>0.036263</td>\n",
              "    </tr>\n",
              "    <tr>\n",
              "      <th>508372</th>\n",
              "      <td>508372</td>\n",
              "      <td>{'created_at': '2014-04-19T01:06:42.000Z', 'pi...</td>\n",
              "      <td>2452161535</td>\n",
              "      <td>1496997849527201792</td>\n",
              "      <td>In a video statement, Ukrainian President Zele...</td>\n",
              "      <td>in a video statement, ukrainian president zele...</td>\n",
              "      <td>original</td>\n",
              "      <td>NaN</td>\n",
              "      <td>2022-02-24 23:57:54+00:00</td>\n",
              "      <td>en</td>\n",
              "      <td>0.221574</td>\n",
              "      <td>0.543276</td>\n",
              "      <td>0.355655</td>\n",
              "      <td>0.101758</td>\n",
              "      <td>0.237586</td>\n",
              "    </tr>\n",
              "    <tr>\n",
              "      <th>508603</th>\n",
              "      <td>508603</td>\n",
              "      <td>{'username': '1014Want', 'protected': False, '...</td>\n",
              "      <td>1433664171296665600</td>\n",
              "      <td>1496997842900115456</td>\n",
              "      <td>Live updates: Russia invades Ukraine https://t...</td>\n",
              "      <td>live updates: russia invades ukraine</td>\n",
              "      <td>original</td>\n",
              "      <td>NaN</td>\n",
              "      <td>2022-02-24 23:57:53+00:00</td>\n",
              "      <td>en</td>\n",
              "      <td>0.167587</td>\n",
              "      <td>0.483423</td>\n",
              "      <td>0.482257</td>\n",
              "      <td>0.233616</td>\n",
              "      <td>0.215689</td>\n",
              "    </tr>\n",
              "    <tr>\n",
              "      <th>508657</th>\n",
              "      <td>508657</td>\n",
              "      <td>{'username': 'WanderNWoodsman', 'location': 'c...</td>\n",
              "      <td>745591220</td>\n",
              "      <td>1496997841407180800</td>\n",
              "      <td>Russia Used Beatings and Tricks to Forcibly Se...</td>\n",
              "      <td>russia used beatings and tricks to forcibly se...</td>\n",
              "      <td>original</td>\n",
              "      <td>NaN</td>\n",
              "      <td>2022-02-24 23:57:52+00:00</td>\n",
              "      <td>en</td>\n",
              "      <td>0.271282</td>\n",
              "      <td>0.789690</td>\n",
              "      <td>0.684238</td>\n",
              "      <td>0.357869</td>\n",
              "      <td>0.343968</td>\n",
              "    </tr>\n",
              "  </tbody>\n",
              "</table>\n",
              "<p>14369 rows × 15 columns</p>\n",
              "</div>\n",
              "      <button class=\"colab-df-convert\" onclick=\"convertToInteractive('df-614d834f-c0d4-454e-9b7d-594538376147')\"\n",
              "              title=\"Convert this dataframe to an interactive table.\"\n",
              "              style=\"display:none;\">\n",
              "        \n",
              "  <svg xmlns=\"http://www.w3.org/2000/svg\" height=\"24px\"viewBox=\"0 0 24 24\"\n",
              "       width=\"24px\">\n",
              "    <path d=\"M0 0h24v24H0V0z\" fill=\"none\"/>\n",
              "    <path d=\"M18.56 5.44l.94 2.06.94-2.06 2.06-.94-2.06-.94-.94-2.06-.94 2.06-2.06.94zm-11 1L8.5 8.5l.94-2.06 2.06-.94-2.06-.94L8.5 2.5l-.94 2.06-2.06.94zm10 10l.94 2.06.94-2.06 2.06-.94-2.06-.94-.94-2.06-.94 2.06-2.06.94z\"/><path d=\"M17.41 7.96l-1.37-1.37c-.4-.4-.92-.59-1.43-.59-.52 0-1.04.2-1.43.59L10.3 9.45l-7.72 7.72c-.78.78-.78 2.05 0 2.83L4 21.41c.39.39.9.59 1.41.59.51 0 1.02-.2 1.41-.59l7.78-7.78 2.81-2.81c.8-.78.8-2.07 0-2.86zM5.41 20L4 18.59l7.72-7.72 1.47 1.35L5.41 20z\"/>\n",
              "  </svg>\n",
              "      </button>\n",
              "      \n",
              "  <style>\n",
              "    .colab-df-container {\n",
              "      display:flex;\n",
              "      flex-wrap:wrap;\n",
              "      gap: 12px;\n",
              "    }\n",
              "\n",
              "    .colab-df-convert {\n",
              "      background-color: #E8F0FE;\n",
              "      border: none;\n",
              "      border-radius: 50%;\n",
              "      cursor: pointer;\n",
              "      display: none;\n",
              "      fill: #1967D2;\n",
              "      height: 32px;\n",
              "      padding: 0 0 0 0;\n",
              "      width: 32px;\n",
              "    }\n",
              "\n",
              "    .colab-df-convert:hover {\n",
              "      background-color: #E2EBFA;\n",
              "      box-shadow: 0px 1px 2px rgba(60, 64, 67, 0.3), 0px 1px 3px 1px rgba(60, 64, 67, 0.15);\n",
              "      fill: #174EA6;\n",
              "    }\n",
              "\n",
              "    [theme=dark] .colab-df-convert {\n",
              "      background-color: #3B4455;\n",
              "      fill: #D2E3FC;\n",
              "    }\n",
              "\n",
              "    [theme=dark] .colab-df-convert:hover {\n",
              "      background-color: #434B5C;\n",
              "      box-shadow: 0px 1px 3px 1px rgba(0, 0, 0, 0.15);\n",
              "      filter: drop-shadow(0px 1px 2px rgba(0, 0, 0, 0.3));\n",
              "      fill: #FFFFFF;\n",
              "    }\n",
              "  </style>\n",
              "\n",
              "      <script>\n",
              "        const buttonEl =\n",
              "          document.querySelector('#df-614d834f-c0d4-454e-9b7d-594538376147 button.colab-df-convert');\n",
              "        buttonEl.style.display =\n",
              "          google.colab.kernel.accessAllowed ? 'block' : 'none';\n",
              "\n",
              "        async function convertToInteractive(key) {\n",
              "          const element = document.querySelector('#df-614d834f-c0d4-454e-9b7d-594538376147');\n",
              "          const dataTable =\n",
              "            await google.colab.kernel.invokeFunction('convertToInteractive',\n",
              "                                                     [key], {});\n",
              "          if (!dataTable) return;\n",
              "\n",
              "          const docLinkHtml = 'Like what you see? Visit the ' +\n",
              "            '<a target=\"_blank\" href=https://colab.research.google.com/notebooks/data_table.ipynb>data table notebook</a>'\n",
              "            + ' to learn more about interactive tables.';\n",
              "          element.innerHTML = '';\n",
              "          dataTable['output_type'] = 'display_data';\n",
              "          await google.colab.output.renderOutput(dataTable, element);\n",
              "          const docLink = document.createElement('div');\n",
              "          docLink.innerHTML = docLinkHtml;\n",
              "          element.appendChild(docLink);\n",
              "        }\n",
              "      </script>\n",
              "    </div>\n",
              "  </div>\n",
              "  "
            ]
          },
          "metadata": {},
          "execution_count": 19
        }
      ],
      "source": [
        "author_repeated_orginal"
      ],
      "id": "e7a5bbbe"
    },
    {
      "cell_type": "code",
      "execution_count": 20,
      "metadata": {
        "colab": {
          "base_uri": "https://localhost:8080/"
        },
        "id": "b3224fe6",
        "outputId": "209395cd-ed65-43a9-8bd1-840c3fc84060"
      },
      "outputs": [
        {
          "output_type": "execute_result",
          "data": {
            "text/plain": [
              "Index(['Unnamed: 0', 'author', 'author_id', 'id', 'text', 'ref_text',\n",
              "       'tweet_type', 'withheld', 'created_at', 'lang', 'toxicity_score',\n",
              "       'threat_score', 'id_attack_score', 'profanity_score', 'insult_score'],\n",
              "      dtype='object')"
            ]
          },
          "metadata": {},
          "execution_count": 20
        }
      ],
      "source": [
        "author_repeated_orginal.columns"
      ],
      "id": "b3224fe6"
    },
    {
      "cell_type": "code",
      "execution_count": 21,
      "metadata": {
        "colab": {
          "base_uri": "https://localhost:8080/"
        },
        "id": "5367dc89",
        "outputId": "bd1cdcf9-1880-4e2f-878b-350d4e304373"
      },
      "outputs": [
        {
          "output_type": "execute_result",
          "data": {
            "text/plain": [
              "pandas.core.series.Series"
            ]
          },
          "metadata": {},
          "execution_count": 21
        }
      ],
      "source": [
        "user_info=input_dataset[\"author\"].apply(lambda x : eval(x)[\"username\"])\n",
        "#user_info=pd.DataFrame(data=user_info,columns=[\"username\"])\n",
        "type(user_info)"
      ],
      "id": "5367dc89"
    },
    {
      "cell_type": "code",
      "execution_count": null,
      "metadata": {
        "colab": {
          "background_save": true
        },
        "id": "e613a87b"
      },
      "outputs": [],
      "source": [
        "user_info=user_info.to_frame(name=\"username\")\n",
        "user_info[\"verifed\"]=input_dataset[\"author\"].apply(lambda x : eval(x)[\"verified\"])\n",
        "user_info"
      ],
      "id": "e613a87b"
    },
    {
      "cell_type": "code",
      "execution_count": null,
      "metadata": {
        "colab": {
          "background_save": true
        },
        "id": "d978869e"
      },
      "outputs": [],
      "source": [
        "user_info.shape"
      ],
      "id": "d978869e"
    },
    {
      "cell_type": "code",
      "execution_count": null,
      "metadata": {
        "colab": {
          "background_save": true
        },
        "id": "10d39569"
      },
      "outputs": [],
      "source": [
        "input_dataset[\"author\"]"
      ],
      "id": "10d39569"
    },
    {
      "cell_type": "code",
      "execution_count": null,
      "metadata": {
        "colab": {
          "background_save": true
        },
        "id": "c6bd10fe"
      },
      "outputs": [],
      "source": [
        "test_author=eval(input_dataset[\"author\"][3])\n",
        "test_author"
      ],
      "id": "c6bd10fe"
    },
    {
      "cell_type": "code",
      "execution_count": null,
      "metadata": {
        "colab": {
          "background_save": true
        },
        "id": "d18b7781"
      },
      "outputs": [],
      "source": [
        "test_author.keys()"
      ],
      "id": "d18b7781"
    },
    {
      "cell_type": "code",
      "execution_count": null,
      "metadata": {
        "colab": {
          "background_save": true
        },
        "id": "86c7c1b7"
      },
      "outputs": [],
      "source": [
        "def get_location(column):\n",
        "    colum= eval(column)\n",
        "    try:\n",
        "        loca=colum['location']\n",
        "    except:\n",
        "        loca=\"None\"\n",
        "    return loca"
      ],
      "id": "86c7c1b7"
    },
    {
      "cell_type": "code",
      "execution_count": null,
      "metadata": {
        "colab": {
          "background_save": true
        },
        "id": "94d45b6f"
      },
      "outputs": [],
      "source": [
        "input_dataset[\"location\"]=input_dataset[\"author\"].apply(lambda x: get_location(x))"
      ],
      "id": "94d45b6f"
    },
    {
      "cell_type": "code",
      "execution_count": null,
      "metadata": {
        "colab": {
          "background_save": true
        },
        "id": "734e360a"
      },
      "outputs": [],
      "source": [
        "input_dataset[\"location\"].value_counts()[:10]\n"
      ],
      "id": "734e360a"
    },
    {
      "cell_type": "code",
      "execution_count": null,
      "metadata": {
        "colab": {
          "background_save": true
        },
        "id": "HuTA_YvoJG5A"
      },
      "outputs": [],
      "source": [
        "input_dataset[\"location\"].replace(\"California, USA\",\"USA\", inplace=True)"
      ],
      "id": "HuTA_YvoJG5A"
    },
    {
      "cell_type": "code",
      "execution_count": null,
      "metadata": {
        "colab": {
          "background_save": true
        },
        "id": "27bbbf47"
      },
      "outputs": [],
      "source": [
        "location_tests=input_dataset.loc[input_dataset[\"location\"]==\"None\"]\n",
        "#有14行数据location本来就被标注为 None"
      ],
      "id": "27bbbf47"
    },
    {
      "cell_type": "code",
      "execution_count": null,
      "metadata": {
        "colab": {
          "background_save": true
        },
        "id": "kcYRCKJRph8b"
      },
      "outputs": [],
      "source": [
        "! pip install langdetect"
      ],
      "id": "kcYRCKJRph8b"
    },
    {
      "cell_type": "code",
      "execution_count": null,
      "metadata": {
        "colab": {
          "background_save": true
        },
        "id": "b2f11wjbsv1c"
      },
      "outputs": [],
      "source": [
        "! pip install -U deep-translator"
      ],
      "id": "b2f11wjbsv1c"
    },
    {
      "cell_type": "code",
      "execution_count": null,
      "metadata": {
        "colab": {
          "background_save": true
        },
        "id": "CPqEsnnmtmn2"
      },
      "outputs": [],
      "source": [
        "! pip install emoji --upgrade"
      ],
      "id": "CPqEsnnmtmn2"
    },
    {
      "cell_type": "code",
      "execution_count": null,
      "metadata": {
        "colab": {
          "background_save": true
        },
        "id": "XoaOHwfL1BUu"
      },
      "outputs": [],
      "source": [
        "! pip install geocoder"
      ],
      "id": "XoaOHwfL1BUu"
    },
    {
      "cell_type": "code",
      "execution_count": null,
      "metadata": {
        "colab": {
          "background_save": true
        },
        "id": "3Dp7pUWfkVgQ"
      },
      "outputs": [],
      "source": [
        "from langdetect import detect\n",
        "from deep_translator import GoogleTranslator\n",
        "import emoji\n",
        "import geocoder\n",
        "\n",
        "def name_convert(location):\n",
        "  loca_info={}\n",
        "  loca_info[\"country\"]= \"None\"\n",
        "  try:\n",
        "    locations=location.split(\" \")\n",
        "    demoji=[]\n",
        "\n",
        "    for l in locations:\n",
        "      if emoji.is_emoji(l):\n",
        "        con=emoji.demojize(l)\n",
        "        demoji.append(con)\n",
        "\n",
        "    if len(demoji) > 0:\n",
        "      loca_info[\"location\"]= \" \".join(demoji)\n",
        "      loca_info[\"lange\"] = \"en\"\n",
        "    else:\n",
        "      loca_info[\"location\"]=location\n",
        "      try:\n",
        "        loca_info[\"lange\"]= detect(location)\n",
        "      except:\n",
        "        loca_info[\"lange\"]= \"None\"\n",
        "    print(loca_info[\"lange\"])\n",
        "    \n",
        "  except Exception as e:\n",
        "    print(\"When creating dictionary \",loca_info[\"location\"], \"meets an Exception : \", e )\n",
        "    print(type(loca_info[\"location\"]))\n",
        "  if loca_info[\"lange\"] != \"en\":\n",
        "    loca_info[\"location_tran\"] = GoogleTranslator(source=\"auto\", target='en').translate(loca_info[\"location\"])\n",
        "  if loca_info[\"location\"] in [\"None\" ,\"India\" ,\"United States\" ,\"USA\", \"United Kingdom\"]:\n",
        "    loca_info[\"country\"]=loca_info[\"location\"]\n",
        "  else:\n",
        "    try:\n",
        "      results = geocoder.google(loca_info[\"location\"])\n",
        "      loca_info[\"country\"] = results.country\n",
        "    except Exception as e:\n",
        "      print(\"When detecting country \",location, \"meets an Exception : \", e )\n",
        "  return loca_info\n"
      ],
      "id": "3Dp7pUWfkVgQ"
    },
    {
      "cell_type": "code",
      "execution_count": null,
      "metadata": {
        "id": "JYn3Hw4Xi0Po"
      },
      "outputs": [],
      "source": [
        "input_dataset[\"location\"]= input_dataset[\"location\"].apply(lambda x : name_convert(x))"
      ],
      "id": "JYn3Hw4Xi0Po"
    },
    {
      "cell_type": "code",
      "execution_count": null,
      "metadata": {
        "id": "18ed2fb2",
        "outputId": "cbafff35-010c-4930-9cb6-ff1c5400dcb1"
      },
      "outputs": [
        {
          "data": {
            "text/plain": [
              "{'copyright': False, 'country_codes': ['AT', 'BE', 'BG', 'CY', 'CZ', 'DE', 'DK', 'EE', 'ES', 'FI', 'FR', 'GR', 'HR', 'HU', 'IE', 'IT', 'LT', 'LU', 'LV', 'MT', 'NL', 'PL', 'PT', 'RO', 'SE', 'SI', 'SK']}          230\n",
              "{'copyright': False, 'country_codes': ['IN']}                                                                                                                                                                      211\n",
              "{'copyright': False, 'country_codes': ['TR']}                                                                                                                                                                      209\n",
              "{'copyright': False, 'country_codes': ['DE']}                                                                                                                                                                       12\n",
              "{'copyright': False, 'country_codes': ['RU']}                                                                                                                                                                        4\n",
              "{'copyright': False, 'country_codes': ['FR']}                                                                                                                                                                        1\n",
              "{'copyright': False, 'country_codes': ['AT', 'BE', 'BG', 'CY', 'CZ', 'DE', 'DK', 'EE', 'ES', 'FI', 'FR', 'GR', 'HR', 'HU', 'IE', 'IN', 'IT', 'LT', 'LU', 'LV', 'MT', 'NL', 'PL', 'PT', 'RO', 'SE', 'SI', 'SK']}      1\n",
              "Name: withheld, dtype: int64"
            ]
          },
          "execution_count": 39,
          "metadata": {},
          "output_type": "execute_result"
        }
      ],
      "source": [
        "input_dataset[\"withheld\"].value_counts()"
      ],
      "id": "18ed2fb2"
    },
    {
      "cell_type": "code",
      "execution_count": null,
      "metadata": {
        "id": "ffe9c4a1"
      },
      "outputs": [],
      "source": [
        "retweet_dataset=input_dataset.loc[input_dataset[\"tweet_type\"]==\"retweeted\"]"
      ],
      "id": "ffe9c4a1"
    },
    {
      "cell_type": "code",
      "execution_count": null,
      "metadata": {
        "id": "ba43eae5",
        "outputId": "424d97d8-3dfd-480f-99fa-554952988554"
      },
      "outputs": [
        {
          "name": "stderr",
          "output_type": "stream",
          "text": [
            "/var/folders/90/32nvngjd1tlfm1mfx7p76_xm0000gn/T/ipykernel_17296/2679311997.py:1: SettingWithCopyWarning: \n",
            "A value is trying to be set on a copy of a slice from a DataFrame.\n",
            "Try using .loc[row_indexer,col_indexer] = value instead\n",
            "\n",
            "See the caveats in the documentation: https://pandas.pydata.org/pandas-docs/stable/user_guide/indexing.html#returning-a-view-versus-a-copy\n",
            "  retweet_dataset[\"user_name\"]=retweet_dataset[\"author\"].apply(lambda x: eval(x)[\"username\"])\n"
          ]
        }
      ],
      "source": [
        "retweet_dataset[\"user_name\"]=retweet_dataset[\"author\"].apply(lambda x: eval(x)[\"username\"])"
      ],
      "id": "ba43eae5"
    },
    {
      "cell_type": "code",
      "execution_count": null,
      "metadata": {
        "id": "a65fa287"
      },
      "outputs": [],
      "source": [
        "usernames=retweet_dataset[\"user_name\"]"
      ],
      "id": "a65fa287"
    },
    {
      "cell_type": "code",
      "execution_count": null,
      "metadata": {
        "id": "894e9ed4",
        "outputId": "cc75a23d-64ca-47b5-e28d-007e73050274",
        "scrolled": true
      },
      "outputs": [
        {
          "name": "stderr",
          "output_type": "stream",
          "text": [
            "/var/folders/90/32nvngjd1tlfm1mfx7p76_xm0000gn/T/ipykernel_17296/1775292419.py:4: SettingWithCopyWarning: \n",
            "A value is trying to be set on a copy of a slice from a DataFrame.\n",
            "Try using .loc[row_indexer,col_indexer] = value instead\n",
            "\n",
            "See the caveats in the documentation: https://pandas.pydata.org/pandas-docs/stable/user_guide/indexing.html#returning-a-view-versus-a-copy\n",
            "  retweet_dataset[\"rt_handel_name\"]=retweet_dataset[\"text\"].apply(lambda x : re.findall('\\s*RT\\s*@[^:]*:',x))\n"
          ]
        }
      ],
      "source": [
        "#select \"RT@XXXXXX:\"\n",
        "#corpus[\"hashtags\"] = corpus[\"text\"].swifter.apply(lambda x: re.findall(\"#([a-zA-Z0-9_]{1,50})\", x))\n",
        "import re\n",
        "retweet_dataset[\"rt_handel_name\"]=retweet_dataset[\"text\"].apply(lambda x : re.findall('\\s*RT\\s*@[^:]*:',x))\n",
        "\n",
        "#retweet_dataset[\"handlel_name\"]=retweet_dataset[\"handel_name\"].apply(lambda x : re.findall(\"@[A-Za-z0-9_]+\",x[0]))\n",
        "#retweet_dataset[\"handel_name\"]=retweet_dataset[\"handel_name\"].apply(lambda x : re.findall(\"@[A-Za-z0-9_]+\", str(x))"
      ],
      "id": "894e9ed4"
    },
    {
      "cell_type": "code",
      "execution_count": null,
      "metadata": {
        "id": "02e8bcdc",
        "outputId": "545ae2fc-cc3a-4720-e082-804ff6425b00"
      },
      "outputs": [
        {
          "data": {
            "text/plain": [
              "False    350759\n",
              "Name: rt_handel_name, dtype: int64"
            ]
          },
          "execution_count": 161,
          "metadata": {},
          "output_type": "execute_result"
        }
      ],
      "source": [
        "retweet_dataset[\"rt_handel_name\"].isna().value_counts()"
      ],
      "id": "02e8bcdc"
    },
    {
      "cell_type": "code",
      "execution_count": null,
      "metadata": {
        "id": "4b1a84e4",
        "outputId": "36fb6f3b-46c4-4cb6-f168-4c733fbe5d00"
      },
      "outputs": [
        {
          "data": {
            "text/plain": [
              "['RT @alessabocchi:']"
            ]
          },
          "execution_count": 162,
          "metadata": {},
          "output_type": "execute_result"
        }
      ],
      "source": [
        "retweet_dataset[\"rt_handel_name\"][0]"
      ],
      "id": "4b1a84e4"
    },
    {
      "cell_type": "code",
      "execution_count": null,
      "metadata": {
        "id": "c1301c98",
        "outputId": "869b1ca2-c9a5-4f98-f52f-3c3757c582ec"
      },
      "outputs": [
        {
          "name": "stderr",
          "output_type": "stream",
          "text": [
            "/var/folders/90/32nvngjd1tlfm1mfx7p76_xm0000gn/T/ipykernel_17296/4048527606.py:1: SettingWithCopyWarning: \n",
            "A value is trying to be set on a copy of a slice from a DataFrame.\n",
            "Try using .loc[row_indexer,col_indexer] = value instead\n",
            "\n",
            "See the caveats in the documentation: https://pandas.pydata.org/pandas-docs/stable/user_guide/indexing.html#returning-a-view-versus-a-copy\n",
            "  retweet_dataset[\"rt_handel_name\"]=retweet_dataset[\"rt_handel_name\"].apply(lambda x : str(x)[6:-3])\n"
          ]
        }
      ],
      "source": [
        "retweet_dataset[\"rt_handel_name\"]=retweet_dataset[\"rt_handel_name\"].apply(lambda x : str(x)[6:-3])"
      ],
      "id": "c1301c98"
    },
    {
      "cell_type": "code",
      "execution_count": null,
      "metadata": {
        "id": "f3055fc8",
        "outputId": "ef750878-dea8-4297-953d-01aaa023ba02"
      },
      "outputs": [
        {
          "data": {
            "text/plain": [
              "1"
            ]
          },
          "execution_count": 164,
          "metadata": {},
          "output_type": "execute_result"
        }
      ],
      "source": [
        "retweet_list=retweet_dataset[\"rt_handel_name\"].value_counts()\n",
        "retweet_list[-1]"
      ],
      "id": "f3055fc8"
    },
    {
      "cell_type": "code",
      "execution_count": null,
      "metadata": {
        "id": "a868eaee",
        "outputId": "633e332b-aa95-4034-8870-578ba1d6f836"
      },
      "outputs": [
        {
          "data": {
            "text/plain": [
              "<AxesSubplot:ylabel='Density'>"
            ]
          },
          "execution_count": 165,
          "metadata": {},
          "output_type": "execute_result"
        },
        {
          "data": {
            "image/png": "[encoded data removed]",
            "text/plain": [
              "<Figure size 640x480 with 1 Axes>"
            ]
          },
          "metadata": {},
          "output_type": "display_data"
        }
      ],
      "source": [
        "retweet_list.plot.density()"
      ],
      "id": "a868eaee"
    },
    {
      "cell_type": "code",
      "execution_count": null,
      "metadata": {
        "id": "c4089451"
      },
      "outputs": [],
      "source": [
        "# the orginal tweet's username with the retweet number \n"
      ],
      "id": "c4089451"
    },
    {
      "cell_type": "code",
      "execution_count": null,
      "metadata": {
        "id": "5f74a77c"
      },
      "outputs": [],
      "source": [
        "#sns.displot(data=retweet_list, kind=\"ecdf\")"
      ],
      "id": "5f74a77c"
    },
    {
      "cell_type": "code",
      "execution_count": null,
      "metadata": {
        "id": "3057fc18"
      },
      "outputs": [],
      "source": [
        "#handel_name 被转发者\n",
        "handel_names=retweet_dataset[\"rt_handel_name\"]\n",
        "# user name 转发者"
      ],
      "id": "3057fc18"
    },
    {
      "cell_type": "code",
      "execution_count": null,
      "metadata": {
        "id": "76af88a9",
        "outputId": "ec057212-924f-4442-830b-7a1c951d3a8e"
      },
      "outputs": [
        {
          "data": {
            "text/plain": [
              "0            alessabocchi\n",
              "1               ngumenyuk\n",
              "2                business\n",
              "3             SPACEdotcom\n",
              "4           TheRickWilson\n",
              "               ...       \n",
              "508661           AVindman\n",
              "508662                NPR\n",
              "508663        sainthayzee\n",
              "508665    WetwareDulachan\n",
              "508667    DanielTurnerPTF\n",
              "Name: rt_handel_name, Length: 350759, dtype: object"
            ]
          },
          "execution_count": 169,
          "metadata": {},
          "output_type": "execute_result"
        }
      ],
      "source": [
        "\n",
        "handel_names"
      ],
      "id": "76af88a9"
    },
    {
      "cell_type": "code",
      "execution_count": null,
      "metadata": {
        "id": "c1565123",
        "outputId": "13876934-b755-46dd-a813-c277cfd106b0"
      },
      "outputs": [
        {
          "data": {
            "text/html": [
              "<div>\n",
              "<style scoped>\n",
              "    .dataframe tbody tr th:only-of-type {\n",
              "        vertical-align: middle;\n",
              "    }\n",
              "\n",
              "    .dataframe tbody tr th {\n",
              "        vertical-align: top;\n",
              "    }\n",
              "\n",
              "    .dataframe thead th {\n",
              "        text-align: right;\n",
              "    }\n",
              "</style>\n",
              "<table border=\"1\" class=\"dataframe\">\n",
              "  <thead>\n",
              "    <tr style=\"text-align: right;\">\n",
              "      <th></th>\n",
              "      <th>user_name</th>\n",
              "      <th>rt_handel_name</th>\n",
              "    </tr>\n",
              "  </thead>\n",
              "  <tbody>\n",
              "    <tr>\n",
              "      <th>0</th>\n",
              "      <td>stolikwolnosci</td>\n",
              "      <td>alessabocchi</td>\n",
              "    </tr>\n",
              "    <tr>\n",
              "      <th>1</th>\n",
              "      <td>Pyshkov</td>\n",
              "      <td>ngumenyuk</td>\n",
              "    </tr>\n",
              "    <tr>\n",
              "      <th>2</th>\n",
              "      <td>MaskedYapper</td>\n",
              "      <td>business</td>\n",
              "    </tr>\n",
              "    <tr>\n",
              "      <th>3</th>\n",
              "      <td>chiragp87233561</td>\n",
              "      <td>SPACEdotcom</td>\n",
              "    </tr>\n",
              "    <tr>\n",
              "      <th>4</th>\n",
              "      <td>XfYV9Jc2sYvkgXF</td>\n",
              "      <td>TheRickWilson</td>\n",
              "    </tr>\n",
              "  </tbody>\n",
              "</table>\n",
              "</div>"
            ],
            "text/plain": [
              "         user_name rt_handel_name\n",
              "0   stolikwolnosci   alessabocchi\n",
              "1          Pyshkov      ngumenyuk\n",
              "2     MaskedYapper       business\n",
              "3  chiragp87233561    SPACEdotcom\n",
              "4  XfYV9Jc2sYvkgXF  TheRickWilson"
            ]
          },
          "execution_count": 170,
          "metadata": {},
          "output_type": "execute_result"
        }
      ],
      "source": [
        "retweet=pd.DataFrame(data=[usernames,handel_names]).transpose()\n",
        "# check original_username is verifed or not\n",
        "retweet.head()"
      ],
      "id": "c1565123"
    },
    {
      "cell_type": "code",
      "execution_count": null,
      "metadata": {
        "id": "949e970f",
        "outputId": "4e78d763-1552-4f2d-f028-896402941569"
      },
      "outputs": [
        {
          "data": {
            "text/plain": [
              "(350759, 2)"
            ]
          },
          "execution_count": 171,
          "metadata": {},
          "output_type": "execute_result"
        }
      ],
      "source": [
        "retweet.shape"
      ],
      "id": "949e970f"
    },
    {
      "cell_type": "code",
      "execution_count": null,
      "metadata": {
        "id": "3d938dbb",
        "outputId": "153e5b09-d5e0-4884-9fcc-1e65d518c850"
      },
      "outputs": [
        {
          "data": {
            "text/plain": [
              "(248329, 2)"
            ]
          },
          "execution_count": 172,
          "metadata": {},
          "output_type": "execute_result"
        }
      ],
      "source": [
        "user_info.drop_duplicates(inplace=True)\n",
        "user_info.shape"
      ],
      "id": "3d938dbb"
    },
    {
      "cell_type": "code",
      "execution_count": null,
      "metadata": {
        "id": "1bddf8fd"
      },
      "outputs": [],
      "source": [
        "retweet.rename(columns={\"user_name\":\"retweet_username\",\"rt_handel_name\":\"original_username\"},inplace=True)"
      ],
      "id": "1bddf8fd"
    },
    {
      "cell_type": "code",
      "execution_count": null,
      "metadata": {
        "id": "0ccb28d1"
      },
      "outputs": [],
      "source": [
        "retweet_info=retweet.merge(user_info, how=\"left\", left_on=\"original_username\",right_on=\"username\")"
      ],
      "id": "0ccb28d1"
    },
    {
      "cell_type": "code",
      "execution_count": null,
      "metadata": {
        "id": "63d2ca40"
      },
      "outputs": [],
      "source": [
        "retweet_info.drop(columns=[\"username\"],inplace=True)"
      ],
      "id": "63d2ca40"
    },
    {
      "cell_type": "code",
      "execution_count": null,
      "metadata": {
        "id": "e92a4c51",
        "outputId": "8e6cfaa7-09fc-4d1b-b2b8-657241c1bbc2"
      },
      "outputs": [
        {
          "data": {
            "text/plain": [
              "True     118480\n",
              "False     78351\n",
              "Name: verifed, dtype: int64"
            ]
          },
          "execution_count": 176,
          "metadata": {},
          "output_type": "execute_result"
        }
      ],
      "source": [
        "retweet_info[\"verifed\"].value_counts()"
      ],
      "id": "e92a4c51"
    },
    {
      "cell_type": "code",
      "execution_count": null,
      "metadata": {
        "id": "a2fb34aa",
        "outputId": "47a99538-1d46-487f-d723-e949b1eb243a"
      },
      "outputs": [
        {
          "data": {
            "text/plain": [
              "False    196831\n",
              "True     154420\n",
              "Name: verifed, dtype: int64"
            ]
          },
          "execution_count": 177,
          "metadata": {},
          "output_type": "execute_result"
        }
      ],
      "source": [
        "retweet_info[\"verifed\"].isna().value_counts()"
      ],
      "id": "a2fb34aa"
    },
    {
      "cell_type": "code",
      "execution_count": null,
      "metadata": {
        "id": "4c8dff47"
      },
      "outputs": [],
      "source": [
        "#combine reweet_list and user_info\n",
        "retweet_count=pd.DataFrame(data=[retweet_list.index,retweet_list.values]).transpose()"
      ],
      "id": "4c8dff47"
    },
    {
      "cell_type": "code",
      "execution_count": null,
      "metadata": {
        "id": "d4235177",
        "outputId": "c87a4447-4fa5-48be-c9d5-6451f0b43594"
      },
      "outputs": [
        {
          "data": {
            "text/html": [
              "<div>\n",
              "<style scoped>\n",
              "    .dataframe tbody tr th:only-of-type {\n",
              "        vertical-align: middle;\n",
              "    }\n",
              "\n",
              "    .dataframe tbody tr th {\n",
              "        vertical-align: top;\n",
              "    }\n",
              "\n",
              "    .dataframe thead th {\n",
              "        text-align: right;\n",
              "    }\n",
              "</style>\n",
              "<table border=\"1\" class=\"dataframe\">\n",
              "  <thead>\n",
              "    <tr style=\"text-align: right;\">\n",
              "      <th></th>\n",
              "      <th>username</th>\n",
              "      <th>retweet_counts</th>\n",
              "    </tr>\n",
              "  </thead>\n",
              "  <tbody>\n",
              "    <tr>\n",
              "      <th>0</th>\n",
              "      <td>spectatorindex</td>\n",
              "      <td>6235</td>\n",
              "    </tr>\n",
              "    <tr>\n",
              "      <th>1</th>\n",
              "      <td>KyivIndependent</td>\n",
              "      <td>5208</td>\n",
              "    </tr>\n",
              "    <tr>\n",
              "      <th>2</th>\n",
              "      <td>Kasparov63</td>\n",
              "      <td>4398</td>\n",
              "    </tr>\n",
              "    <tr>\n",
              "      <th>3</th>\n",
              "      <td>DmytroKuleba</td>\n",
              "      <td>3532</td>\n",
              "    </tr>\n",
              "    <tr>\n",
              "      <th>4</th>\n",
              "      <td>BNONews</td>\n",
              "      <td>3256</td>\n",
              "    </tr>\n",
              "    <tr>\n",
              "      <th>...</th>\n",
              "      <td>...</td>\n",
              "      <td>...</td>\n",
              "    </tr>\n",
              "    <tr>\n",
              "      <th>33287</th>\n",
              "      <td>BlackCo16122436</td>\n",
              "      <td>1</td>\n",
              "    </tr>\n",
              "    <tr>\n",
              "      <th>33288</th>\n",
              "      <td>CvlRightsAtty</td>\n",
              "      <td>1</td>\n",
              "    </tr>\n",
              "    <tr>\n",
              "      <th>33289</th>\n",
              "      <td>Leans2theright</td>\n",
              "      <td>1</td>\n",
              "    </tr>\n",
              "    <tr>\n",
              "      <th>33290</th>\n",
              "      <td>MaryWeglarz</td>\n",
              "      <td>1</td>\n",
              "    </tr>\n",
              "    <tr>\n",
              "      <th>33291</th>\n",
              "      <td>WetwareDulachan</td>\n",
              "      <td>1</td>\n",
              "    </tr>\n",
              "  </tbody>\n",
              "</table>\n",
              "<p>33292 rows × 2 columns</p>\n",
              "</div>"
            ],
            "text/plain": [
              "              username retweet_counts\n",
              "0       spectatorindex           6235\n",
              "1      KyivIndependent           5208\n",
              "2           Kasparov63           4398\n",
              "3         DmytroKuleba           3532\n",
              "4              BNONews           3256\n",
              "...                ...            ...\n",
              "33287  BlackCo16122436              1\n",
              "33288    CvlRightsAtty              1\n",
              "33289   Leans2theright              1\n",
              "33290      MaryWeglarz              1\n",
              "33291  WetwareDulachan              1\n",
              "\n",
              "[33292 rows x 2 columns]"
            ]
          },
          "execution_count": 186,
          "metadata": {},
          "output_type": "execute_result"
        }
      ],
      "source": [
        "retweet_count.rename(columns={ 0 :\"username\", 1 :\"retweet_counts\"}, inplace=True )\n",
        "retweet_count"
      ],
      "id": "d4235177"
    },
    {
      "cell_type": "code",
      "execution_count": null,
      "metadata": {
        "id": "cadf7106",
        "outputId": "5b39a3c4-6774-4a37-b137-9a07dda14b25"
      },
      "outputs": [
        {
          "data": {
            "text/html": [
              "<div>\n",
              "<style scoped>\n",
              "    .dataframe tbody tr th:only-of-type {\n",
              "        vertical-align: middle;\n",
              "    }\n",
              "\n",
              "    .dataframe tbody tr th {\n",
              "        vertical-align: top;\n",
              "    }\n",
              "\n",
              "    .dataframe thead th {\n",
              "        text-align: right;\n",
              "    }\n",
              "</style>\n",
              "<table border=\"1\" class=\"dataframe\">\n",
              "  <thead>\n",
              "    <tr style=\"text-align: right;\">\n",
              "      <th></th>\n",
              "      <th>username</th>\n",
              "      <th>retweet_counts</th>\n",
              "    </tr>\n",
              "  </thead>\n",
              "  <tbody>\n",
              "    <tr>\n",
              "      <th>0</th>\n",
              "      <td>spectatorindex</td>\n",
              "      <td>6235</td>\n",
              "    </tr>\n",
              "    <tr>\n",
              "      <th>1</th>\n",
              "      <td>KyivIndependent</td>\n",
              "      <td>5208</td>\n",
              "    </tr>\n",
              "    <tr>\n",
              "      <th>2</th>\n",
              "      <td>Kasparov63</td>\n",
              "      <td>4398</td>\n",
              "    </tr>\n",
              "    <tr>\n",
              "      <th>3</th>\n",
              "      <td>DmytroKuleba</td>\n",
              "      <td>3532</td>\n",
              "    </tr>\n",
              "    <tr>\n",
              "      <th>4</th>\n",
              "      <td>BNONews</td>\n",
              "      <td>3256</td>\n",
              "    </tr>\n",
              "    <tr>\n",
              "      <th>...</th>\n",
              "      <td>...</td>\n",
              "      <td>...</td>\n",
              "    </tr>\n",
              "    <tr>\n",
              "      <th>33287</th>\n",
              "      <td>BlackCo16122436</td>\n",
              "      <td>1</td>\n",
              "    </tr>\n",
              "    <tr>\n",
              "      <th>33288</th>\n",
              "      <td>CvlRightsAtty</td>\n",
              "      <td>1</td>\n",
              "    </tr>\n",
              "    <tr>\n",
              "      <th>33289</th>\n",
              "      <td>Leans2theright</td>\n",
              "      <td>1</td>\n",
              "    </tr>\n",
              "    <tr>\n",
              "      <th>33290</th>\n",
              "      <td>MaryWeglarz</td>\n",
              "      <td>1</td>\n",
              "    </tr>\n",
              "    <tr>\n",
              "      <th>33291</th>\n",
              "      <td>WetwareDulachan</td>\n",
              "      <td>1</td>\n",
              "    </tr>\n",
              "  </tbody>\n",
              "</table>\n",
              "<p>33292 rows × 2 columns</p>\n",
              "</div>"
            ],
            "text/plain": [
              "              username retweet_counts\n",
              "0       spectatorindex           6235\n",
              "1      KyivIndependent           5208\n",
              "2           Kasparov63           4398\n",
              "3         DmytroKuleba           3532\n",
              "4              BNONews           3256\n",
              "...                ...            ...\n",
              "33287  BlackCo16122436              1\n",
              "33288    CvlRightsAtty              1\n",
              "33289   Leans2theright              1\n",
              "33290      MaryWeglarz              1\n",
              "33291  WetwareDulachan              1\n",
              "\n",
              "[33292 rows x 2 columns]"
            ]
          },
          "execution_count": 187,
          "metadata": {},
          "output_type": "execute_result"
        }
      ],
      "source": [
        "retweet_count"
      ],
      "id": "cadf7106"
    },
    {
      "cell_type": "code",
      "execution_count": null,
      "metadata": {
        "id": "bf78b4b1"
      },
      "outputs": [],
      "source": [
        "retweet_count=retweet_count.merge(user_info, how=\"left\", left_on=\"username\",right_on=\"username\")"
      ],
      "id": "bf78b4b1"
    },
    {
      "cell_type": "code",
      "execution_count": null,
      "metadata": {
        "id": "ee3a2298",
        "outputId": "247b728e-94ab-4cf7-c5ec-cd7fdd6b9c2b"
      },
      "outputs": [
        {
          "data": {
            "text/plain": [
              "True     22450\n",
              "False    10844\n",
              "Name: verifed, dtype: int64"
            ]
          },
          "execution_count": 193,
          "metadata": {},
          "output_type": "execute_result"
        }
      ],
      "source": [
        "retweet_count[\"verifed\"].isna().value_counts()"
      ],
      "id": "ee3a2298"
    },
    {
      "cell_type": "code",
      "execution_count": null,
      "metadata": {
        "id": "7bf85333",
        "outputId": "3b1ec6b4-ca16-4231-ad8f-9f38170b07f4"
      },
      "outputs": [
        {
          "data": {
            "text/html": [
              "<div>\n",
              "<style scoped>\n",
              "    .dataframe tbody tr th:only-of-type {\n",
              "        vertical-align: middle;\n",
              "    }\n",
              "\n",
              "    .dataframe tbody tr th {\n",
              "        vertical-align: top;\n",
              "    }\n",
              "\n",
              "    .dataframe thead th {\n",
              "        text-align: right;\n",
              "    }\n",
              "</style>\n",
              "<table border=\"1\" class=\"dataframe\">\n",
              "  <thead>\n",
              "    <tr style=\"text-align: right;\">\n",
              "      <th></th>\n",
              "      <th>username</th>\n",
              "      <th>retweet_counts</th>\n",
              "      <th>verifed</th>\n",
              "    </tr>\n",
              "  </thead>\n",
              "  <tbody>\n",
              "    <tr>\n",
              "      <th>0</th>\n",
              "      <td>spectatorindex</td>\n",
              "      <td>6235</td>\n",
              "      <td>False</td>\n",
              "    </tr>\n",
              "    <tr>\n",
              "      <th>1</th>\n",
              "      <td>KyivIndependent</td>\n",
              "      <td>5208</td>\n",
              "      <td>True</td>\n",
              "    </tr>\n",
              "    <tr>\n",
              "      <th>2</th>\n",
              "      <td>Kasparov63</td>\n",
              "      <td>4398</td>\n",
              "      <td>NaN</td>\n",
              "    </tr>\n",
              "    <tr>\n",
              "      <th>3</th>\n",
              "      <td>DmytroKuleba</td>\n",
              "      <td>3532</td>\n",
              "      <td>True</td>\n",
              "    </tr>\n",
              "    <tr>\n",
              "      <th>4</th>\n",
              "      <td>BNONews</td>\n",
              "      <td>3256</td>\n",
              "      <td>True</td>\n",
              "    </tr>\n",
              "    <tr>\n",
              "      <th>...</th>\n",
              "      <td>...</td>\n",
              "      <td>...</td>\n",
              "      <td>...</td>\n",
              "    </tr>\n",
              "    <tr>\n",
              "      <th>33289</th>\n",
              "      <td>BlackCo16122436</td>\n",
              "      <td>1</td>\n",
              "      <td>NaN</td>\n",
              "    </tr>\n",
              "    <tr>\n",
              "      <th>33290</th>\n",
              "      <td>CvlRightsAtty</td>\n",
              "      <td>1</td>\n",
              "      <td>NaN</td>\n",
              "    </tr>\n",
              "    <tr>\n",
              "      <th>33291</th>\n",
              "      <td>Leans2theright</td>\n",
              "      <td>1</td>\n",
              "      <td>NaN</td>\n",
              "    </tr>\n",
              "    <tr>\n",
              "      <th>33292</th>\n",
              "      <td>MaryWeglarz</td>\n",
              "      <td>1</td>\n",
              "      <td>NaN</td>\n",
              "    </tr>\n",
              "    <tr>\n",
              "      <th>33293</th>\n",
              "      <td>WetwareDulachan</td>\n",
              "      <td>1</td>\n",
              "      <td>NaN</td>\n",
              "    </tr>\n",
              "  </tbody>\n",
              "</table>\n",
              "<p>33294 rows × 3 columns</p>\n",
              "</div>"
            ],
            "text/plain": [
              "              username retweet_counts verifed\n",
              "0       spectatorindex           6235   False\n",
              "1      KyivIndependent           5208    True\n",
              "2           Kasparov63           4398     NaN\n",
              "3         DmytroKuleba           3532    True\n",
              "4              BNONews           3256    True\n",
              "...                ...            ...     ...\n",
              "33289  BlackCo16122436              1     NaN\n",
              "33290    CvlRightsAtty              1     NaN\n",
              "33291   Leans2theright              1     NaN\n",
              "33292      MaryWeglarz              1     NaN\n",
              "33293  WetwareDulachan              1     NaN\n",
              "\n",
              "[33294 rows x 3 columns]"
            ]
          },
          "execution_count": 194,
          "metadata": {},
          "output_type": "execute_result"
        }
      ],
      "source": [
        "retweet_count"
      ],
      "id": "7bf85333"
    },
    {
      "cell_type": "code",
      "execution_count": null,
      "metadata": {
        "id": "55561218",
        "outputId": "68ac84c4-ce5d-4aa5-8486-4b1e25f13326"
      },
      "outputs": [
        {
          "name": "stdout",
          "output_type": "stream",
          "text": [
            "Retrieving notices: ...working... done\n",
            "Collecting package metadata (current_repodata.json): done\n",
            "Solving environment: failed with initial frozen solve. Retrying with flexible solve.\n",
            "Collecting package metadata (repodata.json): done\n",
            "Solving environment: failed with initial frozen solve. Retrying with flexible solve.\n",
            "\n",
            "PackagesNotFoundError: The following packages are not available from current channels:\n",
            "\n",
            "  - wordcloud\n",
            "\n",
            "Current channels:\n",
            "\n",
            "  - https://repo.anaconda.com/pkgs/main/osx-64\n",
            "  - https://repo.anaconda.com/pkgs/main/noarch\n",
            "  - https://repo.anaconda.com/pkgs/r/osx-64\n",
            "  - https://repo.anaconda.com/pkgs/r/noarch\n",
            "\n",
            "To search for alternate channels that may provide the conda package you're\n",
            "looking for, navigate to\n",
            "\n",
            "    https://anaconda.org\n",
            "\n",
            "and use the search bar at the top of the page.\n",
            "\n",
            "\n"
          ]
        }
      ],
      "source": [
        "! conda install wordcloud"
      ],
      "id": "55561218"
    },
    {
      "cell_type": "code",
      "execution_count": null,
      "metadata": {
        "id": "b2e6c453",
        "outputId": "9bddc415-3c23-420d-c1ff-5aada1e6e187"
      },
      "outputs": [
        {
          "ename": "ModuleNotFoundError",
          "evalue": "No module named 'wordcloud'",
          "output_type": "error",
          "traceback": [
            "\u001b[0;31m---------------------------------------------------------------------------\u001b[0m",
            "\u001b[0;31mModuleNotFoundError\u001b[0m                       Traceback (most recent call last)",
            "Cell \u001b[0;32mIn [199], line 1\u001b[0m\n\u001b[0;32m----> 1\u001b[0m \u001b[38;5;28;01mfrom\u001b[39;00m \u001b[38;5;21;01mwordcloud\u001b[39;00m \u001b[38;5;28;01mimport\u001b[39;00m WordCloud\n",
            "\u001b[0;31mModuleNotFoundError\u001b[0m: No module named 'wordcloud'"
          ]
        }
      ],
      "source": [
        "from wordcloud import WordCloud"
      ],
      "id": "b2e6c453"
    },
    {
      "cell_type": "code",
      "execution_count": null,
      "metadata": {
        "id": "c2e441ef"
      },
      "outputs": [],
      "source": [
        "retweet_info.dropna(inplace=True)"
      ],
      "id": "c2e441ef"
    },
    {
      "cell_type": "code",
      "execution_count": null,
      "metadata": {
        "id": "bf3e3892",
        "outputId": "0be17ef6-466d-4a5f-de4e-030d6e91fab4"
      },
      "outputs": [
        {
          "data": {
            "text/plain": [
              "(196831, 3)"
            ]
          },
          "execution_count": 47,
          "metadata": {},
          "output_type": "execute_result"
        }
      ],
      "source": [
        "retweet_info.shape"
      ],
      "id": "bf3e3892"
    },
    {
      "cell_type": "code",
      "execution_count": null,
      "metadata": {
        "id": "f0e9b87c",
        "outputId": "eb51b9bd-9bff-4c07-86a0-ad91a21e6861"
      },
      "outputs": [
        {
          "ename": "KeyboardInterrupt",
          "evalue": "",
          "output_type": "error",
          "traceback": [
            "\u001b[0;31m---------------------------------------------------------------------------\u001b[0m",
            "\u001b[0;31mKeyboardInterrupt\u001b[0m                         Traceback (most recent call last)",
            "Cell \u001b[0;32mIn [110], line 5\u001b[0m\n\u001b[1;32m      3\u001b[0m edges\u001b[38;5;241m=\u001b[39m[]\n\u001b[1;32m      4\u001b[0m top_nodes\u001b[38;5;241m=\u001b[39mretweet_list[:i]\n\u001b[0;32m----> 5\u001b[0m \u001b[38;5;28;01mfor\u001b[39;00m index, rows \u001b[38;5;129;01min\u001b[39;00m retweet_info\u001b[38;5;241m.\u001b[39miterrows():\n\u001b[1;32m      6\u001b[0m     \u001b[38;5;28;01mif\u001b[39;00m rows[\u001b[38;5;124m\"\u001b[39m\u001b[38;5;124moriginal_username\u001b[39m\u001b[38;5;124m\"\u001b[39m] \u001b[38;5;129;01min\u001b[39;00m top_nodes:\n\u001b[1;32m      7\u001b[0m         name_tuple\u001b[38;5;241m=\u001b[39m(rows[\u001b[38;5;124m\"\u001b[39m\u001b[38;5;124mretweet_username\u001b[39m\u001b[38;5;124m\"\u001b[39m],rows[\u001b[38;5;124m\"\u001b[39m\u001b[38;5;124moriginal_username\u001b[39m\u001b[38;5;124m\"\u001b[39m])\n",
            "File \u001b[0;32m/usr/local/lib/python3.9/site-packages/pandas/core/frame.py:1409\u001b[0m, in \u001b[0;36mDataFrame.iterrows\u001b[0;34m(self)\u001b[0m\n\u001b[1;32m   1407\u001b[0m klass \u001b[38;5;241m=\u001b[39m \u001b[38;5;28mself\u001b[39m\u001b[38;5;241m.\u001b[39m_constructor_sliced\n\u001b[1;32m   1408\u001b[0m \u001b[38;5;28;01mfor\u001b[39;00m k, v \u001b[38;5;129;01min\u001b[39;00m \u001b[38;5;28mzip\u001b[39m(\u001b[38;5;28mself\u001b[39m\u001b[38;5;241m.\u001b[39mindex, \u001b[38;5;28mself\u001b[39m\u001b[38;5;241m.\u001b[39mvalues):\n\u001b[0;32m-> 1409\u001b[0m     s \u001b[38;5;241m=\u001b[39m \u001b[43mklass\u001b[49m\u001b[43m(\u001b[49m\u001b[43mv\u001b[49m\u001b[43m,\u001b[49m\u001b[43m \u001b[49m\u001b[43mindex\u001b[49m\u001b[38;5;241;43m=\u001b[39;49m\u001b[43mcolumns\u001b[49m\u001b[43m,\u001b[49m\u001b[43m \u001b[49m\u001b[43mname\u001b[49m\u001b[38;5;241;43m=\u001b[39;49m\u001b[43mk\u001b[49m\u001b[43m)\u001b[49m\u001b[38;5;241m.\u001b[39m__finalize__(\u001b[38;5;28mself\u001b[39m)\n\u001b[1;32m   1410\u001b[0m     \u001b[38;5;28;01myield\u001b[39;00m k, s\n",
            "File \u001b[0;32m/usr/local/lib/python3.9/site-packages/pandas/core/series.py:474\u001b[0m, in \u001b[0;36mSeries.__init__\u001b[0;34m(self, data, index, dtype, name, copy, fastpath)\u001b[0m\n\u001b[1;32m    472\u001b[0m manager \u001b[38;5;241m=\u001b[39m get_option(\u001b[38;5;124m\"\u001b[39m\u001b[38;5;124mmode.data_manager\u001b[39m\u001b[38;5;124m\"\u001b[39m)\n\u001b[1;32m    473\u001b[0m \u001b[38;5;28;01mif\u001b[39;00m manager \u001b[38;5;241m==\u001b[39m \u001b[38;5;124m\"\u001b[39m\u001b[38;5;124mblock\u001b[39m\u001b[38;5;124m\"\u001b[39m:\n\u001b[0;32m--> 474\u001b[0m     data \u001b[38;5;241m=\u001b[39m \u001b[43mSingleBlockManager\u001b[49m\u001b[38;5;241;43m.\u001b[39;49m\u001b[43mfrom_array\u001b[49m\u001b[43m(\u001b[49m\u001b[43mdata\u001b[49m\u001b[43m,\u001b[49m\u001b[43m \u001b[49m\u001b[43mindex\u001b[49m\u001b[43m)\u001b[49m\n\u001b[1;32m    475\u001b[0m \u001b[38;5;28;01melif\u001b[39;00m manager \u001b[38;5;241m==\u001b[39m \u001b[38;5;124m\"\u001b[39m\u001b[38;5;124marray\u001b[39m\u001b[38;5;124m\"\u001b[39m:\n\u001b[1;32m    476\u001b[0m     data \u001b[38;5;241m=\u001b[39m SingleArrayManager\u001b[38;5;241m.\u001b[39mfrom_array(data, index)\n",
            "File \u001b[0;32m/usr/local/lib/python3.9/site-packages/pandas/core/internals/managers.py:1912\u001b[0m, in \u001b[0;36mSingleBlockManager.from_array\u001b[0;34m(cls, array, index)\u001b[0m\n\u001b[1;32m   1907\u001b[0m \u001b[38;5;129m@classmethod\u001b[39m\n\u001b[1;32m   1908\u001b[0m \u001b[38;5;28;01mdef\u001b[39;00m \u001b[38;5;21mfrom_array\u001b[39m(\u001b[38;5;28mcls\u001b[39m, array: ArrayLike, index: Index) \u001b[38;5;241m-\u001b[39m\u001b[38;5;241m>\u001b[39m SingleBlockManager:\n\u001b[1;32m   1909\u001b[0m     \u001b[38;5;124;03m\"\"\"\u001b[39;00m\n\u001b[1;32m   1910\u001b[0m \u001b[38;5;124;03m    Constructor for if we have an array that is not yet a Block.\u001b[39;00m\n\u001b[1;32m   1911\u001b[0m \u001b[38;5;124;03m    \"\"\"\u001b[39;00m\n\u001b[0;32m-> 1912\u001b[0m     block \u001b[38;5;241m=\u001b[39m \u001b[43mnew_block\u001b[49m\u001b[43m(\u001b[49m\u001b[43marray\u001b[49m\u001b[43m,\u001b[49m\u001b[43m \u001b[49m\u001b[43mplacement\u001b[49m\u001b[38;5;241;43m=\u001b[39;49m\u001b[38;5;28;43mslice\u001b[39;49m\u001b[43m(\u001b[49m\u001b[38;5;241;43m0\u001b[39;49m\u001b[43m,\u001b[49m\u001b[43m \u001b[49m\u001b[38;5;28;43mlen\u001b[39;49m\u001b[43m(\u001b[49m\u001b[43mindex\u001b[49m\u001b[43m)\u001b[49m\u001b[43m)\u001b[49m\u001b[43m,\u001b[49m\u001b[43m \u001b[49m\u001b[43mndim\u001b[49m\u001b[38;5;241;43m=\u001b[39;49m\u001b[38;5;241;43m1\u001b[39;49m\u001b[43m)\u001b[49m\n\u001b[1;32m   1913\u001b[0m     \u001b[38;5;28;01mreturn\u001b[39;00m \u001b[38;5;28mcls\u001b[39m(block, index)\n",
            "File \u001b[0;32m/usr/local/lib/python3.9/site-packages/pandas/core/internals/blocks.py:2176\u001b[0m, in \u001b[0;36mnew_block\u001b[0;34m(values, placement, ndim)\u001b[0m\n\u001b[1;32m   2173\u001b[0m \u001b[38;5;28;01mif\u001b[39;00m \u001b[38;5;129;01mnot\u001b[39;00m \u001b[38;5;28misinstance\u001b[39m(placement, BlockPlacement):\n\u001b[1;32m   2174\u001b[0m     placement \u001b[38;5;241m=\u001b[39m BlockPlacement(placement)\n\u001b[0;32m-> 2176\u001b[0m \u001b[43mcheck_ndim\u001b[49m\u001b[43m(\u001b[49m\u001b[43mvalues\u001b[49m\u001b[43m,\u001b[49m\u001b[43m \u001b[49m\u001b[43mplacement\u001b[49m\u001b[43m,\u001b[49m\u001b[43m \u001b[49m\u001b[43mndim\u001b[49m\u001b[43m)\u001b[49m\n\u001b[1;32m   2178\u001b[0m klass \u001b[38;5;241m=\u001b[39m get_block_type(values\u001b[38;5;241m.\u001b[39mdtype)\n\u001b[1;32m   2180\u001b[0m values \u001b[38;5;241m=\u001b[39m maybe_coerce_values(values)\n",
            "File \u001b[0;32m/usr/local/lib/python3.9/site-packages/pandas/core/internals/blocks.py:2216\u001b[0m, in \u001b[0;36mcheck_ndim\u001b[0;34m(values, placement, ndim)\u001b[0m\n\u001b[1;32m   2211\u001b[0m     \u001b[38;5;28;01mif\u001b[39;00m values\u001b[38;5;241m.\u001b[39mndim \u001b[38;5;241m!=\u001b[39m ndim:\n\u001b[1;32m   2212\u001b[0m         \u001b[38;5;28;01mraise\u001b[39;00m \u001b[38;5;167;01mValueError\u001b[39;00m(\n\u001b[1;32m   2213\u001b[0m             \u001b[38;5;124m\"\u001b[39m\u001b[38;5;124mWrong number of dimensions. \u001b[39m\u001b[38;5;124m\"\u001b[39m\n\u001b[1;32m   2214\u001b[0m             \u001b[38;5;124mf\u001b[39m\u001b[38;5;124m\"\u001b[39m\u001b[38;5;124mvalues.ndim != ndim [\u001b[39m\u001b[38;5;132;01m{\u001b[39;00mvalues\u001b[38;5;241m.\u001b[39mndim\u001b[38;5;132;01m}\u001b[39;00m\u001b[38;5;124m != \u001b[39m\u001b[38;5;132;01m{\u001b[39;00mndim\u001b[38;5;132;01m}\u001b[39;00m\u001b[38;5;124m]\u001b[39m\u001b[38;5;124m\"\u001b[39m\n\u001b[1;32m   2215\u001b[0m         )\n\u001b[0;32m-> 2216\u001b[0m     \u001b[38;5;28;01mif\u001b[39;00m \u001b[38;5;28;43mlen\u001b[39;49m(placement) \u001b[38;5;241m!=\u001b[39m \u001b[38;5;28mlen\u001b[39m(values):\n\u001b[1;32m   2217\u001b[0m         \u001b[38;5;28;01mraise\u001b[39;00m \u001b[38;5;167;01mValueError\u001b[39;00m(\n\u001b[1;32m   2218\u001b[0m             \u001b[38;5;124mf\u001b[39m\u001b[38;5;124m\"\u001b[39m\u001b[38;5;124mWrong number of items passed \u001b[39m\u001b[38;5;132;01m{\u001b[39;00m\u001b[38;5;28mlen\u001b[39m(values)\u001b[38;5;132;01m}\u001b[39;00m\u001b[38;5;124m, \u001b[39m\u001b[38;5;124m\"\u001b[39m\n\u001b[1;32m   2219\u001b[0m             \u001b[38;5;124mf\u001b[39m\u001b[38;5;124m\"\u001b[39m\u001b[38;5;124mplacement implies \u001b[39m\u001b[38;5;132;01m{\u001b[39;00m\u001b[38;5;28mlen\u001b[39m(placement)\u001b[38;5;132;01m}\u001b[39;00m\u001b[38;5;124m\"\u001b[39m\n\u001b[1;32m   2220\u001b[0m         )\n\u001b[1;32m   2221\u001b[0m \u001b[38;5;28;01melif\u001b[39;00m ndim \u001b[38;5;241m==\u001b[39m \u001b[38;5;241m2\u001b[39m \u001b[38;5;129;01mand\u001b[39;00m \u001b[38;5;28mlen\u001b[39m(placement) \u001b[38;5;241m!=\u001b[39m \u001b[38;5;241m1\u001b[39m:\n\u001b[1;32m   2222\u001b[0m     \u001b[38;5;66;03m# TODO(EA2D): special case unnecessary with 2D EAs\u001b[39;00m\n",
            "\u001b[0;31mKeyboardInterrupt\u001b[0m: "
          ]
        }
      ],
      "source": [
        "edges_len=[]\n",
        "for i in range(len(retweet_list)):\n",
        "    edges=[]\n",
        "    top_nodes=retweet_list[:i]\n",
        "    for index, rows in retweet_info.iterrows():\n",
        "        if rows[\"original_username\"] in top_nodes:\n",
        "            name_tuple=(rows[\"retweet_username\"],rows[\"original_username\"])\n",
        "            edges.append(name_tuple)\n",
        "    edges_len.append(len(edges))"
      ],
      "id": "f0e9b87c"
    },
    {
      "cell_type": "code",
      "execution_count": null,
      "metadata": {
        "id": "17709b1d"
      },
      "outputs": [],
      "source": [],
      "id": "17709b1d"
    },
    {
      "cell_type": "code",
      "execution_count": null,
      "metadata": {
        "collapsed": true,
        "id": "d84bc5c9",
        "outputId": "1832cfb2-df63-4e7d-a882-33407e580ee5"
      },
      "outputs": [
        {
          "data": {
            "text/plain": [
              "[('MaskedYapper', 'business'),\n",
              " ('BeccaRay91', 'KyivIndependent'),\n",
              " ('TeacherReality', 'BNONews'),\n",
              " ('IsabelleBjornb1', 'ZelenskyyUa'),\n",
              " ('parnsap_y', 'cliffordlevy'),\n",
              " ('King13_hki', 'visegrad24'),\n",
              " ('siukwaisiukwai', 'badiucao'),\n",
              " ('Marauder415', 'KyivIndependent'),\n",
              " ('GhayasM73', 'republic'),\n",
              " ('catherine8302', 'Forbes'),\n",
              " ('mary_mcdermid', 'juliaioffe'),\n",
              " ('bemusedbob1', 'KyivIndependent'),\n",
              " ('ClemonsGige', 'OccupyDemocrats'),\n",
              " ('Stephan61010668', 'ChristopherJM'),\n",
              " ('polarbear_2017', 'Reuters'),\n",
              " ('BjarkeBodvar', 'EuromaidanPress'),\n",
              " ('TheCozyPotato', 'AvivaKlompas'),\n",
              " ('George36298862', 'BrexitBuster'),\n",
              " ('ScottCross22', 'phildstewart'),\n",
              " ('MagnumificentTT', 'GeorgeMonbiot'),\n",
              " ('Meidas_Steve', 'McFaul'),\n",
              " ('Tweetbot1138', 'TrentTelenko'),\n",
              " ('mattworo', 'andersostlund'),\n",
              " ('gints_r', 'KyivIndependent'),\n",
              " ('WeinrichFamily', 'StrictlyChristo'),\n",
              " ('FapsOfMeaning', 'sentdefender'),\n",
              " ('blingit', 'JacquiHeinrich'),\n",
              " ('KarlaGeology91', 'KyivIndependent'),\n",
              " ('AlbertoApernas', 'MSNBC'),\n",
              " ('LudmylaFirebird', 'KyivIndependent'),\n",
              " ('xAndroxy_', 'RALee85'),\n",
              " ('SdeCollignon', 'KyivIndependent'),\n",
              " ('FeeonaCarbonara', 'shashj'),\n",
              " ('mamunten', 'lapatina_'),\n",
              " ('Pavan1048', 'Tom_Fowdy'),\n",
              " ('CrippledU', 'idreesali114'),\n",
              " ('28068Andy', 'worldonalert'),\n",
              " ('black__child__', 'thehill'),\n",
              " ('Angry_Mephiston', 'KyivIndependent'),\n",
              " ('Indu70105786', 'sidhant'),\n",
              " ('polarbear_2017', 'Reuters'),\n",
              " ('BazintheCity', 'StrictlyChristo'),\n",
              " ('MikaelSchaeffer', 'DineshDSouza'),\n",
              " ('boobookittie2', 'NotHoodlum'),\n",
              " ('JonoftheLibrary', 'KevinRothrock'),\n",
              " ('chauhan_rajiv', 'spectatorindex'),\n",
              " ('Mau122983390', 'ABC'),\n",
              " ('bhajkovaaa', 'YourAnonNews'),\n",
              " ('mc_kanata', 'OccupyDemocrats'),\n",
              " ('emmydogho', 'lapatina_'),\n",
              " ('Sentinel103', 'MSNBC'),\n",
              " ('SumanKu56888484', 'BNONews'),\n",
              " ('sheltielove', 'MuellerSheWrote'),\n",
              " ('Celestebyrne3', 'business'),\n",
              " ('somoc71955', 'Reuters'),\n",
              " ('Havoc__147', 'StrictlyChristo'),\n",
              " ('demfemme', 'ZelenskyyUa'),\n",
              " ('EmelyMa41312967', 'KyivIndependent'),\n",
              " ('IhejirikaG', 'SaharaReporters'),\n",
              " ('Reneeminarizona', 'OccupyDemocrats'),\n",
              " ('riff_studio_', 'KyivIndependent'),\n",
              " ('theillusivealyd', 'KamVTV'),\n",
              " ('CathyOlson22', 'MuellerSheWrote'),\n",
              " ('MaddowMichael', 'OccupyDemocrats'),\n",
              " ('GBnews_WATCH', 'eyejosh'),\n",
              " ('BigD12thman', 'KamVTV'),\n",
              " ('gabrfranke', 'Reuters'),\n",
              " ('AlenaPosh1', 'KyivIndependent'),\n",
              " ('dissident_the', 'michaelh992'),\n",
              " ('axel2tasha', 'YourAnonNews'),\n",
              " ('gmasguret', 'ZelenskyyUa'),\n",
              " ('Mark84337466', 'ukiswitheu'),\n",
              " ('TaffeCox', 'CBSNews'),\n",
              " ('steven_seegel', 'juliaioffe'),\n",
              " ('VandoninckWim', 'worldonalert'),\n",
              " ('polarbear_2017', 'Reuters'),\n",
              " ('Lily_Warrior', 'lapatina_'),\n",
              " ('hotmess2018', 'StrictlyChristo'),\n",
              " ('VStierlitz', 'Forbes'),\n",
              " ('luclefebvre', 'sentdefender'),\n",
              " ('Typ0negative', 'Tom_Fowdy'),\n",
              " ('rbt0898989', 'LucasFoxNews'),\n",
              " ('cryborg', 'OlgaNYC1211'),\n",
              " ('DeltaDivaD', 'McFaul'),\n",
              " ('GOP_ClownShow', 'KyivIndependent'),\n",
              " ('ami_ritabrata', 'spectatorindex'),\n",
              " ('SewerVoice', 'OccupyDemocrats'),\n",
              " ('SD981', 'Amy_Siskind'),\n",
              " ('WIActivist', 'McFaul'),\n",
              " ('BjarkeBodvar', 'biannagolodryga'),\n",
              " ('fight4_ukraine', 'KyivIndependent'),\n",
              " ('Rey92058997', 'KyivIndependent'),\n",
              " ('aheffne', 'oryxspioenkop'),\n",
              " ('CarolLaRue', 'B52Malmet'),\n",
              " ('comaraster', 'nicktolhurst'),\n",
              " ('gultencimen', 'Forbes'),\n",
              " ('anonymo75666921', 'evanhill'),\n",
              " ('Glitchy_Ashburn', 'Amy_Siskind'),\n",
              " ('theleftyleftie', 'djrothkopf'),\n",
              " ('charlesdjayadi', 'YourAnonNews')]"
            ]
          },
          "execution_count": 49,
          "metadata": {},
          "output_type": "execute_result"
        }
      ],
      "source": [
        "edges[:100]"
      ],
      "id": "d84bc5c9"
    },
    {
      "cell_type": "code",
      "execution_count": null,
      "metadata": {
        "id": "aec751bb"
      },
      "outputs": [],
      "source": [
        "#import networkx as nx\n",
        "\n",
        "# G_rt=nx.from_pandas_edgelist(\n",
        "#     sotu_retweets,\n",
        "#     source=,\n",
        "#     target=,\n",
        "#     create_usint=)\n",
        "# )\n",
        "\n"
      ],
      "id": "aec751bb"
    },
    {
      "cell_type": "code",
      "execution_count": null,
      "metadata": {
        "id": "1b51dfad",
        "outputId": "9044debe-6fa0-43d2-e333-765139c2c2a0",
        "scrolled": true
      },
      "outputs": [
        {
          "name": "stderr",
          "output_type": "stream",
          "text": [
            "/usr/local/lib/python3.9/site-packages/scipy/__init__.py:138: UserWarning: A NumPy version >=1.16.5 and <1.23.0 is required for this version of SciPy (detected version 1.23.4)\n",
            "  warnings.warn(f\"A NumPy version >={np_minversion} and <{np_maxversion} is required for this version of \"\n"
          ]
        },
        {
          "data": {
            "text/plain": [
              "155743"
            ]
          },
          "execution_count": 51,
          "metadata": {},
          "output_type": "execute_result"
        }
      ],
      "source": [
        "#nodes and accounts\n",
        "import networkx as nx\n",
        "import matplotlib.pyplot as plt\n",
        "G = nx.DiGraph()\n",
        "G.add_edges_from(edges)\n",
        "d=dict(G.degree)\n",
        "nodelist=d.keys()\n",
        "#nodelist\n",
        "len(edges)"
      ],
      "id": "1b51dfad"
    },
    {
      "cell_type": "code",
      "execution_count": null,
      "metadata": {
        "id": "00c5e69c",
        "outputId": "c06af5f3-3d1b-4e88-fd21-3b442ec9ceff"
      },
      "outputs": [
        {
          "ename": "KeyboardInterrupt",
          "evalue": "",
          "output_type": "error",
          "traceback": [
            "\u001b[0;31m---------------------------------------------------------------------------\u001b[0m",
            "\u001b[0;31mKeyboardInterrupt\u001b[0m                         Traceback (most recent call last)",
            "Cell \u001b[0;32mIn [53], line 2\u001b[0m\n\u001b[1;32m      1\u001b[0m nx\u001b[38;5;241m.\u001b[39mwrite_gexf(G,\u001b[38;5;124m\"\u001b[39m\u001b[38;5;124mretweet_network.gexf\u001b[39m\u001b[38;5;124m\"\u001b[39m)\n\u001b[0;32m----> 2\u001b[0m \u001b[43mnx\u001b[49m\u001b[38;5;241;43m.\u001b[39;49m\u001b[43mdraw\u001b[49m\u001b[43m(\u001b[49m\u001b[43mG\u001b[49m\u001b[43m,\u001b[49m\u001b[43m \u001b[49m\u001b[43mnode_size\u001b[49m\u001b[38;5;241;43m=\u001b[39;49m\u001b[43m[\u001b[49m\u001b[43mv\u001b[49m\u001b[38;5;241;43m*\u001b[39;49m\u001b[38;5;241;43m10\u001b[39;49m\u001b[43m \u001b[49m\u001b[38;5;28;43;01mfor\u001b[39;49;00m\u001b[43m \u001b[49m\u001b[43mv\u001b[49m\u001b[43m \u001b[49m\u001b[38;5;129;43;01min\u001b[39;49;00m\u001b[43m \u001b[49m\u001b[43md\u001b[49m\u001b[38;5;241;43m.\u001b[39;49m\u001b[43mvalues\u001b[49m\u001b[43m(\u001b[49m\u001b[43m)\u001b[49m\u001b[43m]\u001b[49m\u001b[43m)\u001b[49m\n",
            "File \u001b[0;32m/usr/local/lib/python3.9/site-packages/networkx/drawing/nx_pylab.py:123\u001b[0m, in \u001b[0;36mdraw\u001b[0;34m(G, pos, ax, **kwds)\u001b[0m\n\u001b[1;32m    120\u001b[0m \u001b[38;5;28;01mif\u001b[39;00m \u001b[38;5;124m\"\u001b[39m\u001b[38;5;124mwith_labels\u001b[39m\u001b[38;5;124m\"\u001b[39m \u001b[38;5;129;01mnot\u001b[39;00m \u001b[38;5;129;01min\u001b[39;00m kwds:\n\u001b[1;32m    121\u001b[0m     kwds[\u001b[38;5;124m\"\u001b[39m\u001b[38;5;124mwith_labels\u001b[39m\u001b[38;5;124m\"\u001b[39m] \u001b[38;5;241m=\u001b[39m \u001b[38;5;124m\"\u001b[39m\u001b[38;5;124mlabels\u001b[39m\u001b[38;5;124m\"\u001b[39m \u001b[38;5;129;01min\u001b[39;00m kwds\n\u001b[0;32m--> 123\u001b[0m \u001b[43mdraw_networkx\u001b[49m\u001b[43m(\u001b[49m\u001b[43mG\u001b[49m\u001b[43m,\u001b[49m\u001b[43m \u001b[49m\u001b[43mpos\u001b[49m\u001b[38;5;241;43m=\u001b[39;49m\u001b[43mpos\u001b[49m\u001b[43m,\u001b[49m\u001b[43m \u001b[49m\u001b[43max\u001b[49m\u001b[38;5;241;43m=\u001b[39;49m\u001b[43max\u001b[49m\u001b[43m,\u001b[49m\u001b[43m \u001b[49m\u001b[38;5;241;43m*\u001b[39;49m\u001b[38;5;241;43m*\u001b[39;49m\u001b[43mkwds\u001b[49m\u001b[43m)\u001b[49m\n\u001b[1;32m    124\u001b[0m ax\u001b[38;5;241m.\u001b[39mset_axis_off()\n\u001b[1;32m    125\u001b[0m plt\u001b[38;5;241m.\u001b[39mdraw_if_interactive()\n",
            "File \u001b[0;32m/usr/local/lib/python3.9/site-packages/networkx/drawing/nx_pylab.py:333\u001b[0m, in \u001b[0;36mdraw_networkx\u001b[0;34m(G, pos, arrows, with_labels, **kwds)\u001b[0m\n\u001b[1;32m    330\u001b[0m label_kwds \u001b[38;5;241m=\u001b[39m {k: v \u001b[38;5;28;01mfor\u001b[39;00m k, v \u001b[38;5;129;01min\u001b[39;00m kwds\u001b[38;5;241m.\u001b[39mitems() \u001b[38;5;28;01mif\u001b[39;00m k \u001b[38;5;129;01min\u001b[39;00m valid_label_kwds}\n\u001b[1;32m    332\u001b[0m \u001b[38;5;28;01mif\u001b[39;00m pos \u001b[38;5;129;01mis\u001b[39;00m \u001b[38;5;28;01mNone\u001b[39;00m:\n\u001b[0;32m--> 333\u001b[0m     pos \u001b[38;5;241m=\u001b[39m \u001b[43mnx\u001b[49m\u001b[38;5;241;43m.\u001b[39;49m\u001b[43mdrawing\u001b[49m\u001b[38;5;241;43m.\u001b[39;49m\u001b[43mspring_layout\u001b[49m\u001b[43m(\u001b[49m\u001b[43mG\u001b[49m\u001b[43m)\u001b[49m  \u001b[38;5;66;03m# default to spring layout\u001b[39;00m\n\u001b[1;32m    335\u001b[0m draw_networkx_nodes(G, pos, \u001b[38;5;241m*\u001b[39m\u001b[38;5;241m*\u001b[39mnode_kwds)\n\u001b[1;32m    336\u001b[0m draw_networkx_edges(G, pos, arrows\u001b[38;5;241m=\u001b[39marrows, \u001b[38;5;241m*\u001b[39m\u001b[38;5;241m*\u001b[39medge_kwds)\n",
            "File \u001b[0;32m<decorator-gen-754>:2\u001b[0m, in \u001b[0;36mfruchterman_reingold_layout\u001b[0;34m(G, k, pos, fixed, iterations, threshold, weight, scale, center, dim, seed)\u001b[0m\n",
            "File \u001b[0;32m/usr/local/lib/python3.9/site-packages/networkx/utils/decorators.py:408\u001b[0m, in \u001b[0;36mrandom_state.<locals>._random_state\u001b[0;34m(func, *args, **kwargs)\u001b[0m\n\u001b[1;32m    406\u001b[0m new_args \u001b[38;5;241m=\u001b[39m \u001b[38;5;28mlist\u001b[39m(args)\n\u001b[1;32m    407\u001b[0m new_args[random_state_index] \u001b[38;5;241m=\u001b[39m random_state\n\u001b[0;32m--> 408\u001b[0m \u001b[38;5;28;01mreturn\u001b[39;00m \u001b[43mfunc\u001b[49m\u001b[43m(\u001b[49m\u001b[38;5;241;43m*\u001b[39;49m\u001b[43mnew_args\u001b[49m\u001b[43m,\u001b[49m\u001b[43m \u001b[49m\u001b[38;5;241;43m*\u001b[39;49m\u001b[38;5;241;43m*\u001b[39;49m\u001b[43mkwargs\u001b[49m\u001b[43m)\u001b[49m\n",
            "File \u001b[0;32m/usr/local/lib/python3.9/site-packages/networkx/drawing/layout.py:491\u001b[0m, in \u001b[0;36mfruchterman_reingold_layout\u001b[0;34m(G, k, pos, fixed, iterations, threshold, weight, scale, center, dim, seed)\u001b[0m\n\u001b[1;32m    489\u001b[0m         nnodes, _ \u001b[38;5;241m=\u001b[39m A\u001b[38;5;241m.\u001b[39mshape\n\u001b[1;32m    490\u001b[0m         k \u001b[38;5;241m=\u001b[39m dom_size \u001b[38;5;241m/\u001b[39m np\u001b[38;5;241m.\u001b[39msqrt(nnodes)\n\u001b[0;32m--> 491\u001b[0m     pos \u001b[38;5;241m=\u001b[39m \u001b[43m_sparse_fruchterman_reingold\u001b[49m\u001b[43m(\u001b[49m\n\u001b[1;32m    492\u001b[0m \u001b[43m        \u001b[49m\u001b[43mA\u001b[49m\u001b[43m,\u001b[49m\u001b[43m \u001b[49m\u001b[43mk\u001b[49m\u001b[43m,\u001b[49m\u001b[43m \u001b[49m\u001b[43mpos_arr\u001b[49m\u001b[43m,\u001b[49m\u001b[43m \u001b[49m\u001b[43mfixed\u001b[49m\u001b[43m,\u001b[49m\u001b[43m \u001b[49m\u001b[43miterations\u001b[49m\u001b[43m,\u001b[49m\u001b[43m \u001b[49m\u001b[43mthreshold\u001b[49m\u001b[43m,\u001b[49m\u001b[43m \u001b[49m\u001b[43mdim\u001b[49m\u001b[43m,\u001b[49m\u001b[43m \u001b[49m\u001b[43mseed\u001b[49m\n\u001b[1;32m    493\u001b[0m \u001b[43m    \u001b[49m\u001b[43m)\u001b[49m\n\u001b[1;32m    494\u001b[0m \u001b[38;5;28;01mexcept\u001b[39;00m \u001b[38;5;167;01mValueError\u001b[39;00m:\n\u001b[1;32m    495\u001b[0m     A \u001b[38;5;241m=\u001b[39m nx\u001b[38;5;241m.\u001b[39mto_numpy_array(G, weight\u001b[38;5;241m=\u001b[39mweight)\n",
            "File \u001b[0;32m<decorator-gen-758>:2\u001b[0m, in \u001b[0;36m_sparse_fruchterman_reingold\u001b[0;34m(A, k, pos, fixed, iterations, threshold, dim, seed)\u001b[0m\n",
            "File \u001b[0;32m/usr/local/lib/python3.9/site-packages/networkx/utils/decorators.py:408\u001b[0m, in \u001b[0;36mrandom_state.<locals>._random_state\u001b[0;34m(func, *args, **kwargs)\u001b[0m\n\u001b[1;32m    406\u001b[0m new_args \u001b[38;5;241m=\u001b[39m \u001b[38;5;28mlist\u001b[39m(args)\n\u001b[1;32m    407\u001b[0m new_args[random_state_index] \u001b[38;5;241m=\u001b[39m random_state\n\u001b[0;32m--> 408\u001b[0m \u001b[38;5;28;01mreturn\u001b[39;00m \u001b[43mfunc\u001b[49m\u001b[43m(\u001b[49m\u001b[38;5;241;43m*\u001b[39;49m\u001b[43mnew_args\u001b[49m\u001b[43m,\u001b[49m\u001b[43m \u001b[49m\u001b[38;5;241;43m*\u001b[39;49m\u001b[38;5;241;43m*\u001b[39;49m\u001b[43mkwargs\u001b[49m\u001b[43m)\u001b[49m\n",
            "File \u001b[0;32m/usr/local/lib/python3.9/site-packages/networkx/drawing/layout.py:631\u001b[0m, in \u001b[0;36m_sparse_fruchterman_reingold\u001b[0;34m(A, k, pos, fixed, iterations, threshold, dim, seed)\u001b[0m\n\u001b[1;32m    629\u001b[0m delta \u001b[38;5;241m=\u001b[39m (pos[i] \u001b[38;5;241m-\u001b[39m pos)\u001b[38;5;241m.\u001b[39mT\n\u001b[1;32m    630\u001b[0m \u001b[38;5;66;03m# distance between points\u001b[39;00m\n\u001b[0;32m--> 631\u001b[0m distance \u001b[38;5;241m=\u001b[39m np\u001b[38;5;241m.\u001b[39msqrt(\u001b[43m(\u001b[49m\u001b[43mdelta\u001b[49m\u001b[43m \u001b[49m\u001b[38;5;241;43m*\u001b[39;49m\u001b[38;5;241;43m*\u001b[39;49m\u001b[43m \u001b[49m\u001b[38;5;241;43m2\u001b[39;49m\u001b[43m)\u001b[49m\u001b[38;5;241;43m.\u001b[39;49m\u001b[43msum\u001b[49m\u001b[43m(\u001b[49m\u001b[43maxis\u001b[49m\u001b[38;5;241;43m=\u001b[39;49m\u001b[38;5;241;43m0\u001b[39;49m\u001b[43m)\u001b[49m)\n\u001b[1;32m    632\u001b[0m \u001b[38;5;66;03m# enforce minimum distance of 0.01\u001b[39;00m\n\u001b[1;32m    633\u001b[0m distance \u001b[38;5;241m=\u001b[39m np\u001b[38;5;241m.\u001b[39mwhere(distance \u001b[38;5;241m<\u001b[39m \u001b[38;5;241m0.01\u001b[39m, \u001b[38;5;241m0.01\u001b[39m, distance)\n",
            "File \u001b[0;32m/usr/local/lib/python3.9/site-packages/numpy/core/_methods.py:48\u001b[0m, in \u001b[0;36m_sum\u001b[0;34m(a, axis, dtype, out, keepdims, initial, where)\u001b[0m\n\u001b[1;32m     46\u001b[0m \u001b[38;5;28;01mdef\u001b[39;00m \u001b[38;5;21m_sum\u001b[39m(a, axis\u001b[38;5;241m=\u001b[39m\u001b[38;5;28;01mNone\u001b[39;00m, dtype\u001b[38;5;241m=\u001b[39m\u001b[38;5;28;01mNone\u001b[39;00m, out\u001b[38;5;241m=\u001b[39m\u001b[38;5;28;01mNone\u001b[39;00m, keepdims\u001b[38;5;241m=\u001b[39m\u001b[38;5;28;01mFalse\u001b[39;00m,\n\u001b[1;32m     47\u001b[0m          initial\u001b[38;5;241m=\u001b[39m_NoValue, where\u001b[38;5;241m=\u001b[39m\u001b[38;5;28;01mTrue\u001b[39;00m):\n\u001b[0;32m---> 48\u001b[0m     \u001b[38;5;28;01mreturn\u001b[39;00m \u001b[43mumr_sum\u001b[49m\u001b[43m(\u001b[49m\u001b[43ma\u001b[49m\u001b[43m,\u001b[49m\u001b[43m \u001b[49m\u001b[43maxis\u001b[49m\u001b[43m,\u001b[49m\u001b[43m \u001b[49m\u001b[43mdtype\u001b[49m\u001b[43m,\u001b[49m\u001b[43m \u001b[49m\u001b[43mout\u001b[49m\u001b[43m,\u001b[49m\u001b[43m \u001b[49m\u001b[43mkeepdims\u001b[49m\u001b[43m,\u001b[49m\u001b[43m \u001b[49m\u001b[43minitial\u001b[49m\u001b[43m,\u001b[49m\u001b[43m \u001b[49m\u001b[43mwhere\u001b[49m\u001b[43m)\u001b[49m\n",
            "\u001b[0;31mKeyboardInterrupt\u001b[0m: "
          ]
        },
        {
          "data": {
            "image/png": "[encoded data removed]",
            "text/plain": [
              "<Figure size 640x480 with 1 Axes>"
            ]
          },
          "metadata": {},
          "output_type": "display_data"
        }
      ],
      "source": [
        "nx.write_gexf(G,\"retweet_network.gexf\")\n",
        "nx.draw(G, node_size=[v*10 for v in d.values()])"
      ],
      "id": "00c5e69c"
    },
    {
      "cell_type": "code",
      "execution_count": null,
      "metadata": {
        "id": "45a4c0ab"
      },
      "outputs": [],
      "source": [
        "nx.draw(G)"
      ],
      "id": "45a4c0ab"
    },
    {
      "cell_type": "code",
      "execution_count": null,
      "metadata": {
        "id": "78dfe220"
      },
      "outputs": [],
      "source": [
        "import networkx as nx"
      ],
      "id": "78dfe220"
    },
    {
      "cell_type": "code",
      "execution_count": null,
      "metadata": {
        "id": "d0338e62"
      },
      "outputs": [],
      "source": [
        "G=nx.DiGraph(day=\"Friday\")\n",
        "G.graph"
      ],
      "id": "d0338e62"
    },
    {
      "cell_type": "code",
      "execution_count": null,
      "metadata": {
        "id": "8378f3e9"
      },
      "outputs": [],
      "source": [
        "G.add_node(1,time=\"5pm\")\n",
        "G.add_nodes_from([3],time=\"2pm\")\n",
        "G.nodes[1]"
      ],
      "id": "8378f3e9"
    },
    {
      "cell_type": "code",
      "execution_count": null,
      "metadata": {
        "id": "13e44b9d"
      },
      "outputs": [],
      "source": [
        "G.nodes[1][\"room\"]=714"
      ],
      "id": "13e44b9d"
    },
    {
      "cell_type": "code",
      "execution_count": null,
      "metadata": {
        "id": "3a5a5bfe"
      },
      "outputs": [],
      "source": [
        "del G.nodes[1][\"room\"]"
      ],
      "id": "3a5a5bfe"
    },
    {
      "cell_type": "code",
      "execution_count": null,
      "metadata": {
        "id": "6c921d4a"
      },
      "outputs": [],
      "source": [
        "list(G.nodes(data=True))"
      ],
      "id": "6c921d4a"
    },
    {
      "cell_type": "code",
      "execution_count": null,
      "metadata": {
        "id": "261864ea"
      },
      "outputs": [],
      "source": [
        "G.add_edge(1,2,weight=4.7)\n",
        "G.add_edges_from([(3,4),(4,5)],color=\"red\")\n",
        "G.add_edges_from([(1,2,{\"color\":\"blue\"}),(2,3,{\"weight\":8})])\n",
        "G[1][2][\"weight\"]"
      ],
      "id": "261864ea"
    },
    {
      "cell_type": "code",
      "execution_count": null,
      "metadata": {
        "id": "0970aba9"
      },
      "outputs": [],
      "source": [
        "G[2][3][\"weight\"]"
      ],
      "id": "0970aba9"
    },
    {
      "cell_type": "code",
      "execution_count": null,
      "metadata": {
        "id": "6d05b29e"
      },
      "outputs": [],
      "source": [
        "G.edges[1,2][\"weight\"]=4"
      ],
      "id": "6d05b29e"
    },
    {
      "cell_type": "code",
      "execution_count": null,
      "metadata": {
        "id": "dbac7426"
      },
      "outputs": [],
      "source": [
        "import matplotlib.pyplot as plt\n",
        "nx.draw(G)"
      ],
      "id": "dbac7426"
    },
    {
      "cell_type": "code",
      "execution_count": null,
      "metadata": {
        "id": "c9e7f4a1"
      },
      "outputs": [],
      "source": [],
      "id": "c9e7f4a1"
    }
  ],
  "metadata": {
    "colab": {
      "provenance": [],
      "include_colab_link": true
    },
    "kernelspec": {
      "display_name": "Python 3 (ipykernel)",
      "language": "python",
      "name": "python3"
    },
    "language_info": {
      "codemirror_mode": {
        "name": "ipython",
        "version": 3
      },
      "file_extension": ".py",
      "mimetype": "text/x-python",
      "name": "python",
      "nbconvert_exporter": "python",
      "pygments_lexer": "ipython3",
      "version": "3.9.7"
    },
    "toc": {
      "base_numbering": 1,
      "nav_menu": {},
      "number_sections": true,
      "sideBar": true,
      "skip_h1_title": false,
      "title_cell": "Table of Contents",
      "title_sidebar": "Contents",
      "toc_cell": false,
      "toc_position": {},
      "toc_section_display": true,
      "toc_window_display": false
    }
  },
  "nbformat": 4,
  "nbformat_minor": 5
}